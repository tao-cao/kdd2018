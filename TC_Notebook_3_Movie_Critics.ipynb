{
  "nbformat": 4,
  "nbformat_minor": 0,
  "metadata": {
    "colab": {
      "name": "TC- Notebook 3 - Movie Critics.ipynb",
      "version": "0.3.2",
      "provenance": [],
      "include_colab_link": true
    },
    "kernelspec": {
      "display_name": "Python 2",
      "language": "python",
      "name": "python2"
    },
    "accelerator": "GPU"
  },
  "cells": [
    {
      "cell_type": "markdown",
      "metadata": {
        "id": "view-in-github",
        "colab_type": "text"
      },
      "source": [
        "[View in Colaboratory](https://colab.research.google.com/github/tao-cao/kdd2018/blob/master/TC_Notebook_3_Movie_Critics.ipynb)"
      ]
    },
    {
      "metadata": {
        "id": "gYFEQZku4Wya",
        "colab_type": "code",
        "colab": {
          "base_uri": "https://localhost:8080/",
          "height": 51
        },
        "outputId": "9b4f8fd9-7085-4bfd-b80a-7e84ec2dd6c6"
      },
      "cell_type": "code",
      "source": [
        "import keras\n",
        "keras.__version__"
      ],
      "execution_count": 1,
      "outputs": [
        {
          "output_type": "stream",
          "text": [
            "Using TensorFlow backend.\n"
          ],
          "name": "stderr"
        },
        {
          "output_type": "execute_result",
          "data": {
            "text/plain": [
              "'2.1.6'"
            ]
          },
          "metadata": {
            "tags": []
          },
          "execution_count": 1
        }
      ]
    },
    {
      "metadata": {
        "id": "Wv6WVal-4Wyc",
        "colab_type": "text"
      },
      "cell_type": "markdown",
      "source": [
        "## Notebook 3"
      ]
    },
    {
      "metadata": {
        "id": "VaN78A9Z4Wyd",
        "colab_type": "text"
      },
      "cell_type": "markdown",
      "source": [
        "## Using WordEmbeddings and RNNs to classify IMDB reviews: a binary classification problem\n",
        "\n",
        "This notebook contains code samples that have been adapted from Francois Chollet's Deep Learning With Python.\n",
        "\n",
        "----\n",
        "In this notebook we are going to introduce how to use Embeddings and [Recurrent Neural Network(RNN)](https://keras.io/layers/recurrent/) layers in Keras. We are going to introduce the following layers:\n",
        "* `Embedding`\n",
        "* `SimpleRNN`\n",
        "* `LSTM`\n",
        "\n",
        "We are going look at how to train networks with limited input text data using pre-trained embeddings. Tokenizing and preprocessing input text data will also be illustrated end to end. "
      ]
    },
    {
      "metadata": {
        "id": "ncWBG8qQ4Wye",
        "colab_type": "text"
      },
      "cell_type": "markdown",
      "source": [
        "## Problem \n",
        "In this notebook, we will learn to classify movie reviews into \"positive\" reviews and \"negative\" reviews, just based on the text content of the reviews."
      ]
    },
    {
      "metadata": {
        "id": "kTbvTQhl4Wyf",
        "colab_type": "text"
      },
      "cell_type": "markdown",
      "source": [
        "# First, a note on using word embeddings\n",
        "\n",
        "Another popular and powerful way to associate a vector with a word is the use of dense \"word vectors\", also called \"word embeddings\". \n",
        "While the vectors obtained through one-hot encoding are binary, sparse (mostly made of zeros) and very high-dimensional (same dimensionality as the \n",
        "number of words in the vocabulary), \"word embeddings\" are low-dimensional floating point vectors \n",
        "(i.e. \"dense\" vectors, as opposed to sparse vectors). \n",
        "Unlike word vectors obtained via one-hot encoding, word embeddings are learned from data. \n",
        "It is common to see word embeddings that are 256-dimensional, 512-dimensional, or 1024-dimensional when dealing with very large vocabularies. \n",
        "On the other hand, one-hot encoding words generally leads to vectors that are 20,000-dimensional or higher (capturing a vocabulary of 20,000 \n",
        "token in this case). So, word embeddings pack more information into far fewer dimensions. "
      ]
    },
    {
      "metadata": {
        "id": "dzLO9JWc4Wyf",
        "colab_type": "text"
      },
      "cell_type": "markdown",
      "source": [
        "![word embeddings vs. one hot encoding](https://s3.amazonaws.com/book.keras.io/img/ch6/word_embeddings.png)"
      ]
    },
    {
      "metadata": {
        "id": "P8xWAY7x4Wyg",
        "colab_type": "text"
      },
      "cell_type": "markdown",
      "source": [
        "There are two ways to obtain word embeddings:\n",
        "\n",
        "* Learn word embeddings jointly with the main task you care about (e.g. document classification or sentiment prediction). \n",
        "In this setup, you would start with random word vectors, then learn your word vectors in the same way that you learn the weights of a neural network.\n",
        "* Load into your model word embeddings that were pre-computed using a different machine learning task than the one you are trying to solve. \n",
        "These are called \"pre-trained word embeddings\". \n",
        "\n",
        "Let's take a look at both."
      ]
    },
    {
      "metadata": {
        "id": "lk8MQCPd4Wyg",
        "colab_type": "code",
        "colab": {}
      },
      "cell_type": "code",
      "source": [
        "from keras.layers import Embedding\n",
        "\n",
        "# The Embedding layer takes at least two arguments:\n",
        "# the number of possible tokens, here 1000 (1 + maximum word index),\n",
        "# and the dimensionality of the embeddings, here 64.\n",
        "embedding_layer = Embedding(1000, 64)"
      ],
      "execution_count": 0,
      "outputs": []
    },
    {
      "metadata": {
        "id": "rRS9PsQu8IYk",
        "colab_type": "code",
        "colab": {
          "base_uri": "https://localhost:8080/",
          "height": 34
        },
        "outputId": "c6b3dc05-a3be-4b43-eca9-de4334b1f008"
      },
      "cell_type": "code",
      "source": [
        "embedding_layer"
      ],
      "execution_count": 3,
      "outputs": [
        {
          "output_type": "execute_result",
          "data": {
            "text/plain": [
              "<keras.layers.embeddings.Embedding at 0x7f30d73b1250>"
            ]
          },
          "metadata": {
            "tags": []
          },
          "execution_count": 3
        }
      ]
    },
    {
      "metadata": {
        "id": "tjULAx154Wyj",
        "colab_type": "text"
      },
      "cell_type": "markdown",
      "source": [
        "\n",
        "The `Embedding` layer is best understood as a dictionary mapping integer indices (which stand for specific words) to dense vectors. It takes \n",
        "as input integers, it looks up these integers into an internal dictionary, and it returns the associated vectors. It's effectively a dictionary lookup."
      ]
    },
    {
      "metadata": {
        "id": "IIofYyjf4Wyk",
        "colab_type": "text"
      },
      "cell_type": "markdown",
      "source": [
        "\n",
        "The `Embedding` layer takes as input a 2D tensor of integers, of shape `(samples, sequence_length)`, where each entry is a sequence of \n",
        "integers. It can embed sequences of variable lengths, so for instance we could feed into our embedding layer above batches that could have \n",
        "shapes `(32, 10)` (batch of 32 sequences of length 10) or `(64, 15)` (batch of 64 sequences of length 15). All sequences in a batch must \n",
        "have the same length, though (since we need to pack them into a single tensor), so sequences that are shorter than others should be padded \n",
        "with zeros, and sequences that are longer should be truncated.\n",
        "\n",
        "This layer returns a 3D floating point tensor, of shape `(samples, sequence_length, embedding_dimensionality)`. Such a 3D tensor can then \n",
        "be processed by a RNN layer or a 1D convolution layer.\n",
        "\n",
        "When you instantiate an `Embedding` layer, its weights (its internal dictionary of token vectors) are initially random, just like with any \n",
        "other layer. During training, these word vectors will be gradually adjusted via backpropagation, structuring the space into something that the \n",
        "downstream model can exploit. Once fully trained, your embedding space will show a lot of structure -- a kind of structure specialized for \n",
        "the specific problem you were training your model for."
      ]
    },
    {
      "metadata": {
        "id": "q8eKDdRO4Wyk",
        "colab_type": "text"
      },
      "cell_type": "markdown",
      "source": [
        "## Dataset\n",
        "Let's consider IMDB movie review sentiment prediction task that you are already familiar with. Let's quickly prepare \n",
        "the data. We will restrict the movie reviews to the top 10,000 most common words, \n",
        "and cut the reviews after only 20 words. Our network will simply learn 8-dimensional embeddings for each of the 10,000 words, turn the \n",
        "input integer sequences (2D integer tensor) into embedded sequences (3D float tensor), flatten the tensor to 2D, and train a single `Dense` layer on top for classification."
      ]
    },
    {
      "metadata": {
        "id": "ptdLzLjF4Wyk",
        "colab_type": "code",
        "colab": {}
      },
      "cell_type": "code",
      "source": [
        "from keras.datasets import imdb\n",
        "from keras import preprocessing"
      ],
      "execution_count": 0,
      "outputs": []
    },
    {
      "metadata": {
        "id": "8GRkZH1N_EsU",
        "colab_type": "code",
        "colab": {}
      },
      "cell_type": "code",
      "source": [
        "# Number of words to consider as features\n",
        "max_features = 10000\n",
        "# Cut texts after this number of words \n",
        "# (among top max_features most common words)\n",
        "maxlen = 20"
      ],
      "execution_count": 0,
      "outputs": []
    },
    {
      "metadata": {
        "id": "7YZo_NRx_ICC",
        "colab_type": "code",
        "colab": {
          "base_uri": "https://localhost:8080/",
          "height": 68
        },
        "outputId": "d4e97b48-1f51-4721-e093-6292d7991f7e"
      },
      "cell_type": "code",
      "source": [
        "\n",
        "# Load the data as lists of integers.\n",
        "(x_train, y_train), (x_test, y_test) = imdb.load_data(num_words=max_features)"
      ],
      "execution_count": 6,
      "outputs": [
        {
          "output_type": "stream",
          "text": [
            "Downloading data from https://s3.amazonaws.com/text-datasets/imdb.npz\n",
            "17465344/17464789 [==============================] - 1s 0us/step\n",
            "17473536/17464789 [==============================] - 1s 0us/step\n"
          ],
          "name": "stdout"
        }
      ]
    },
    {
      "metadata": {
        "id": "SRwXJcHg_WFf",
        "colab_type": "code",
        "colab": {
          "base_uri": "https://localhost:8080/",
          "height": 34
        },
        "outputId": "c690f179-8ce2-407d-ea4e-1a59d162cb2a"
      },
      "cell_type": "code",
      "source": [
        "(x_train.shape, y_train.shape), (x_test.shape, y_test.shape)"
      ],
      "execution_count": 7,
      "outputs": [
        {
          "output_type": "execute_result",
          "data": {
            "text/plain": [
              "(((25000,), (25000,)), ((25000,), (25000,)))"
            ]
          },
          "metadata": {
            "tags": []
          },
          "execution_count": 7
        }
      ]
    },
    {
      "metadata": {
        "id": "RMhs80YX_nbu",
        "colab_type": "code",
        "colab": {}
      },
      "cell_type": "code",
      "source": [
        "x_train_len_20 = [len(x_train[i]) for i in range(20)]"
      ],
      "execution_count": 0,
      "outputs": []
    },
    {
      "metadata": {
        "id": "mHSKj_NtBxPS",
        "colab_type": "code",
        "colab": {
          "base_uri": "https://localhost:8080/",
          "height": 357
        },
        "outputId": "5c76b626-1aba-4d12-e7b9-4a967a19e40f"
      },
      "cell_type": "code",
      "source": [
        "x_train_len_20"
      ],
      "execution_count": 11,
      "outputs": [
        {
          "output_type": "execute_result",
          "data": {
            "text/plain": [
              "[218,\n",
              " 189,\n",
              " 141,\n",
              " 550,\n",
              " 147,\n",
              " 43,\n",
              " 123,\n",
              " 562,\n",
              " 233,\n",
              " 130,\n",
              " 450,\n",
              " 99,\n",
              " 117,\n",
              " 238,\n",
              " 109,\n",
              " 129,\n",
              " 163,\n",
              " 752,\n",
              " 212,\n",
              " 177]"
            ]
          },
          "metadata": {
            "tags": []
          },
          "execution_count": 11
        }
      ]
    },
    {
      "metadata": {
        "id": "F0Cp-bLrD2Kj",
        "colab_type": "text"
      },
      "cell_type": "markdown",
      "source": [
        "# This turns our lists of integers\n",
        "# into a 2D integer tensor of shape `(samples, maxlen)`\n",
        "x_train = preprocessing.sequence.pad_sequences(x_train, maxlen=maxlen)\n",
        "x_test = preprocessing.sequence.pad_sequences(x_test, maxlen=maxlen)"
      ]
    },
    {
      "metadata": {
        "id": "QUtfeuXD4Wyn",
        "colab_type": "code",
        "colab": {}
      },
      "cell_type": "code",
      "source": [
        "# This turns our lists of integers\n",
        "# into a 2D integer tensor of shape `(samples, maxlen)`\n",
        "x_train = preprocessing.sequence.pad_sequences(x_train, maxlen=maxlen)\n",
        "x_test = preprocessing.sequence.pad_sequences(x_test, maxlen=maxlen)"
      ],
      "execution_count": 0,
      "outputs": []
    },
    {
      "metadata": {
        "id": "R5k7W_IoCpV4",
        "colab_type": "code",
        "colab": {}
      },
      "cell_type": "code",
      "source": [
        "x_train_len_20_pad = [len(x_train[i]) for i in range(20)]"
      ],
      "execution_count": 0,
      "outputs": []
    },
    {
      "metadata": {
        "id": "7F_eiKxuCu84",
        "colab_type": "code",
        "colab": {
          "base_uri": "https://localhost:8080/",
          "height": 357
        },
        "outputId": "629f2f2c-5236-4702-8e8a-4f57352ad13c"
      },
      "cell_type": "code",
      "source": [
        "x_train_len_20_pad"
      ],
      "execution_count": 14,
      "outputs": [
        {
          "output_type": "execute_result",
          "data": {
            "text/plain": [
              "[20,\n",
              " 20,\n",
              " 20,\n",
              " 20,\n",
              " 20,\n",
              " 20,\n",
              " 20,\n",
              " 20,\n",
              " 20,\n",
              " 20,\n",
              " 20,\n",
              " 20,\n",
              " 20,\n",
              " 20,\n",
              " 20,\n",
              " 20,\n",
              " 20,\n",
              " 20,\n",
              " 20,\n",
              " 20]"
            ]
          },
          "metadata": {
            "tags": []
          },
          "execution_count": 14
        }
      ]
    },
    {
      "metadata": {
        "id": "0qcbGQKO4Wyp",
        "colab_type": "text"
      },
      "cell_type": "markdown",
      "source": [
        "## Exercise 1: Build and train a Sequential model with the following specs:\n",
        "* Embedding Layer with maximum number of tokes to be 10000 and embedding dimensionality as 8. Let the input_length be the maximum length of each review i.e 20 as seen previously.\n",
        "* Flatten the 3D embedding output to 2D.\n",
        "* Dense Layer which is the classifier.\n",
        "* Compile the model with a 'rmsprop' optimizer. Can you guess what loss we need to use?\n",
        "* Let accuracy be one of the metrics we are interested in.\n",
        "* Run the model on the above training data. "
      ]
    },
    {
      "metadata": {
        "id": "AYgSXXTn4Wyp",
        "colab_type": "code",
        "colab": {
          "base_uri": "https://localhost:8080/",
          "height": 595
        },
        "outputId": "316015af-aa19-4b10-fe98-77b805b597ab"
      },
      "cell_type": "code",
      "source": [
        "from keras.models import Sequential\n",
        "from keras.layers import Flatten, Dense\n",
        "\n",
        "model = Sequential()\n",
        "# Add an Embedding Layer with maximum number of tokes to be 10000 and embedding dimensionality as 8. \n",
        "# Let the input_length be the maximum length of each review i.e 20 as seen previously.\n",
        "# After the Embedding layer, \n",
        "# our activations have shape `(samples, maxlen, 8)`.\n",
        "\n",
        "# We flatten the 3D tensor of embeddings \n",
        "# into a 2D tensor of shape `(samples, maxlen * 8)`\n",
        "# ...\n",
        "# We add a Dense classifier on top\n",
        "# ...\n",
        "\n",
        "# Exercise 1: Solution\n",
        "model.add(Embedding(10000, 8, input_length=maxlen))\n",
        "model.add(Flatten())\n",
        "model.add(Dense(1, activation='sigmoid'))\n",
        "\n",
        "model.compile(optimizer='rmsprop', loss='binary_crossentropy', metrics=['acc'])\n",
        "model.summary()\n",
        "\n",
        "history = model.fit(x_train, y_train,\n",
        "                    epochs=10,\n",
        "                    batch_size=32,\n",
        "                    validation_split=0.2)"
      ],
      "execution_count": 15,
      "outputs": [
        {
          "output_type": "stream",
          "text": [
            "_________________________________________________________________\n",
            "Layer (type)                 Output Shape              Param #   \n",
            "=================================================================\n",
            "embedding_2 (Embedding)      (None, 20, 8)             80000     \n",
            "_________________________________________________________________\n",
            "flatten_1 (Flatten)          (None, 160)               0         \n",
            "_________________________________________________________________\n",
            "dense_1 (Dense)              (None, 1)                 161       \n",
            "=================================================================\n",
            "Total params: 80,161\n",
            "Trainable params: 80,161\n",
            "Non-trainable params: 0\n",
            "_________________________________________________________________\n",
            "Train on 20000 samples, validate on 5000 samples\n",
            "Epoch 1/10\n",
            "20000/20000 [==============================] - 4s 210us/step - loss: 0.6759 - acc: 0.6050 - val_loss: 0.6398 - val_acc: 0.6814\n",
            "Epoch 2/10\n",
            "20000/20000 [==============================] - 3s 169us/step - loss: 0.5657 - acc: 0.7427 - val_loss: 0.5467 - val_acc: 0.7206\n",
            "Epoch 3/10\n",
            "20000/20000 [==============================] - 3s 169us/step - loss: 0.4752 - acc: 0.7808 - val_loss: 0.5113 - val_acc: 0.7384\n",
            "Epoch 4/10\n",
            "20000/20000 [==============================] - 3s 170us/step - loss: 0.4263 - acc: 0.8077 - val_loss: 0.5008 - val_acc: 0.7452\n",
            "Epoch 5/10\n",
            "20000/20000 [==============================] - 3s 169us/step - loss: 0.3930 - acc: 0.8258 - val_loss: 0.4981 - val_acc: 0.7538\n",
            "Epoch 6/10\n",
            "20000/20000 [==============================] - 3s 169us/step - loss: 0.3668 - acc: 0.8395 - val_loss: 0.5014 - val_acc: 0.7530\n",
            "Epoch 7/10\n",
            "20000/20000 [==============================] - 3s 168us/step - loss: 0.3435 - acc: 0.8533 - val_loss: 0.5052 - val_acc: 0.7520\n",
            "Epoch 8/10\n",
            "20000/20000 [==============================] - 4s 218us/step - loss: 0.3223 - acc: 0.8657 - val_loss: 0.5132 - val_acc: 0.7486\n",
            "Epoch 9/10\n",
            "20000/20000 [==============================] - 3s 167us/step - loss: 0.3022 - acc: 0.8766 - val_loss: 0.5213 - val_acc: 0.7490\n",
            "Epoch 10/10\n",
            "20000/20000 [==============================] - 3s 170us/step - loss: 0.2839 - acc: 0.8860 - val_loss: 0.5303 - val_acc: 0.7466\n"
          ],
          "name": "stdout"
        }
      ]
    },
    {
      "metadata": {
        "id": "mk_YCXqg4Wys",
        "colab_type": "text"
      },
      "cell_type": "markdown",
      "source": [
        "If you used a batch size of 32 and ran the model for 10 epochs you should get to a validation accuracy of ~76%, which is pretty good considering that we only look at the first 20 words in every review. But \n",
        "note that merely flattening the embedded sequences and training a single `Dense` layer on top leads to a model that treats each word in the \n",
        "input sequence separately, without considering inter-word relationships and structure sentence (e.g. it would likely treat both _\"this movie \n",
        "is shit\"_ and _\"this movie is the shit\"_ as being negative \"reviews\"). It would be much better to add recurrent layers or 1D convolutional \n",
        "layers on top of the embedded sequences to learn features that take into account each sequence as a whole."
      ]
    },
    {
      "metadata": {
        "id": "-TsEvwcvFkWd",
        "colab_type": "code",
        "colab": {}
      },
      "cell_type": "code",
      "source": [
        "import matplotlib.pyplot as plt\n",
        "%matplotlib inline"
      ],
      "execution_count": 0,
      "outputs": []
    },
    {
      "metadata": {
        "id": "GmsQTiOoFdgR",
        "colab_type": "code",
        "colab": {}
      },
      "cell_type": "code",
      "source": [
        "def plot_fun(loss,val_loss):\n",
        "\n",
        "  epochs = range(1, len(loss) + 1)\n",
        "  plt.plot(epochs, loss, 'bo', label='Training loss')\n",
        "\n",
        "  plt.plot(epochs, val_loss, 'b', label='Validation loss')\n",
        "  plt.title('Training and validation loss')\n",
        "\n",
        "  plt.xlabel('Epochs')\n",
        "\n",
        "  plt.ylabel('Loss')\n",
        "\n",
        "  plt.legend()\n",
        "\n",
        "  plt.show()\n",
        "  \n",
        "def plot_acc(loss,acc,val_acc):\n",
        "  \n",
        "  epochs = range(1, len(loss) + 1)\n",
        "\n",
        "  plt.plot(epochs, acc, 'bo', label='Training acc')\n",
        "\n",
        "  plt.plot(epochs, val_acc, 'b', label='Validation acc')\n",
        "\n",
        "  plt.title('Training and validation accuracy')\n",
        "\n",
        "  plt.xlabel('Epochs')\n",
        "\n",
        "  plt.ylabel('Loss')\n",
        "\n",
        "  plt.legend()\n",
        "\n",
        "\n",
        "  plt.show()\n",
        "  \n",
        "\n",
        "def plt_all(history):\n",
        "\n",
        "  loss = history.history['loss']\n",
        "\n",
        "  val_loss = history.history['val_loss']\n",
        "  \n",
        "  plot_fun(loss,val_loss)\n",
        "\n",
        "\n",
        "  acc = history.history['acc']\n",
        "\n",
        "  val_acc = history.history['val_acc']\n",
        "\n",
        "  plot_acc(loss,acc,val_acc)"
      ],
      "execution_count": 0,
      "outputs": []
    },
    {
      "metadata": {
        "id": "Bxnfp3aHFtmk",
        "colab_type": "code",
        "colab": {
          "base_uri": "https://localhost:8080/",
          "height": 571
        },
        "outputId": "9b72bd43-d981-4b8e-a51b-854654248bc8"
      },
      "cell_type": "code",
      "source": [
        "plt_all(history)"
      ],
      "execution_count": 20,
      "outputs": [
        {
          "output_type": "display_data",
          "data": {
            "image/png": "[encoded data removed]",
            "text/plain": [
              "<matplotlib.figure.Figure at 0x7f30d5e22450>"
            ]
          },
          "metadata": {
            "tags": []
          }
        },
        {
          "output_type": "display_data",
          "data": {
            "image/png": "[encoded data removed]",
            "text/plain": [
              "<matplotlib.figure.Figure at 0x7f311dfe92d0>"
            ]
          },
          "metadata": {
            "tags": []
          }
        }
      ]
    },
    {
      "metadata": {
        "id": "9sioZZsy4Wys",
        "colab_type": "text"
      },
      "cell_type": "markdown",
      "source": [
        "## What if we increase the number of words that we consider in each IMDB review? Let maxlen now be 200 instead of 20."
      ]
    },
    {
      "metadata": {
        "id": "K3yW_lmy4Wyt",
        "colab_type": "code",
        "colab": {
          "base_uri": "https://localhost:8080/",
          "height": 595
        },
        "outputId": "015be1b7-caa6-48c5-8e25-0d9d3c015a28"
      },
      "cell_type": "code",
      "source": [
        "from keras.models import Sequential\n",
        "from keras.layers import Flatten, Dense\n",
        "# Number of words to consider as features\n",
        "max_features = 10000\n",
        "# Cut texts after this number of words \n",
        "# (among top max_features most common words)\n",
        "maxlen = 200\n",
        "\n",
        "# Load the data as lists of integers.\n",
        "#(x_train, y_train), (x_test, y_test) = imdb.load_data(num_words=max_features)\n",
        "\n",
        "# This turns our lists of integers\n",
        "# into a 2D integer tensor of shape `(samples, maxlen)`\n",
        "x_train = preprocessing.sequence.pad_sequences(x_train, maxlen=maxlen)\n",
        "x_test = preprocessing.sequence.pad_sequences(x_test, maxlen=maxlen)\n",
        "\n",
        "model = Sequential()\n",
        "model.add(Embedding(10000, 8, input_length=maxlen))\n",
        "model.add(Flatten())\n",
        "\n",
        "model.add(Dense(1, activation='sigmoid'))\n",
        "model.compile(optimizer='rmsprop', loss='binary_crossentropy', metrics=['acc'])\n",
        "model.summary()\n",
        "\n",
        "history_200 = model.fit(x_train, y_train,\n",
        "                    epochs=10,\n",
        "                    batch_size=32,\n",
        "                    validation_split=0.2)"
      ],
      "execution_count": 21,
      "outputs": [
        {
          "output_type": "stream",
          "text": [
            "_________________________________________________________________\n",
            "Layer (type)                 Output Shape              Param #   \n",
            "=================================================================\n",
            "embedding_3 (Embedding)      (None, 200, 8)            80000     \n",
            "_________________________________________________________________\n",
            "flatten_2 (Flatten)          (None, 1600)              0         \n",
            "_________________________________________________________________\n",
            "dense_2 (Dense)              (None, 1)                 1601      \n",
            "=================================================================\n",
            "Total params: 81,601\n",
            "Trainable params: 81,601\n",
            "Non-trainable params: 0\n",
            "_________________________________________________________________\n",
            "Train on 20000 samples, validate on 5000 samples\n",
            "Epoch 1/10\n",
            "20000/20000 [==============================] - 3s 170us/step - loss: 0.6630 - acc: 0.6263 - val_loss: 0.5988 - val_acc: 0.7032\n",
            "Epoch 2/10\n",
            "20000/20000 [==============================] - 3s 168us/step - loss: 0.5257 - acc: 0.7530 - val_loss: 0.5161 - val_acc: 0.7340\n",
            "Epoch 3/10\n",
            "20000/20000 [==============================] - 3s 172us/step - loss: 0.4584 - acc: 0.7835 - val_loss: 0.4972 - val_acc: 0.7460\n",
            "Epoch 4/10\n",
            "20000/20000 [==============================] - 3s 172us/step - loss: 0.4285 - acc: 0.8012 - val_loss: 0.4917 - val_acc: 0.7516\n",
            "Epoch 5/10\n",
            "20000/20000 [==============================] - 3s 172us/step - loss: 0.4090 - acc: 0.8120 - val_loss: 0.4931 - val_acc: 0.7556\n",
            "Epoch 6/10\n",
            "20000/20000 [==============================] - 3s 170us/step - loss: 0.3939 - acc: 0.8213 - val_loss: 0.4950 - val_acc: 0.7582\n",
            "Epoch 7/10\n",
            "20000/20000 [==============================] - 3s 171us/step - loss: 0.3809 - acc: 0.8284 - val_loss: 0.4983 - val_acc: 0.7554\n",
            "Epoch 8/10\n",
            "20000/20000 [==============================] - 3s 171us/step - loss: 0.3690 - acc: 0.8354 - val_loss: 0.5012 - val_acc: 0.7560\n",
            "Epoch 9/10\n",
            "20000/20000 [==============================] - 3s 171us/step - loss: 0.3567 - acc: 0.8445 - val_loss: 0.5040 - val_acc: 0.7572\n",
            "Epoch 10/10\n",
            "20000/20000 [==============================] - 3s 169us/step - loss: 0.3447 - acc: 0.8498 - val_loss: 0.5103 - val_acc: 0.7566\n"
          ],
          "name": "stdout"
        }
      ]
    },
    {
      "metadata": {
        "id": "EdTgi0JCHM8Q",
        "colab_type": "code",
        "colab": {
          "base_uri": "https://localhost:8080/",
          "height": 571
        },
        "outputId": "8e6e8edc-4827-4bbf-a3ae-7ce00a5cba23"
      },
      "cell_type": "code",
      "source": [
        "plt_all(history_200)"
      ],
      "execution_count": 22,
      "outputs": [
        {
          "output_type": "display_data",
          "data": {
            "image/png": "[encoded data removed]",
            "text/plain": [
              "<matplotlib.figure.Figure at 0x7f30d60f0510>"
            ]
          },
          "metadata": {
            "tags": []
          }
        },
        {
          "output_type": "display_data",
          "data": {
            "image/png": "[encoded data removed]",
            "text/plain": [
              "<matplotlib.figure.Figure at 0x7f30ce537150>"
            ]
          },
          "metadata": {
            "tags": []
          }
        }
      ]
    },
    {
      "metadata": {
        "id": "Va0izhlL4Wyv",
        "colab_type": "text"
      },
      "cell_type": "markdown",
      "source": [
        "With a higher number of words considered per review the validation accuracy can increase up to 88%."
      ]
    },
    {
      "metadata": {
        "id": "Ox3LYUPzoTaH",
        "colab_type": "text"
      },
      "cell_type": "markdown",
      "source": [
        "# In order to deal with the general hyper parameter like max_features(# of possible tokens), maxlen(# of words considered per input), validation_split=0.2\n",
        "\n",
        "# a general build model function is created"
      ]
    },
    {
      "metadata": {
        "id": "hkTEw9e6oPaJ",
        "colab_type": "code",
        "colab": {}
      },
      "cell_type": "code",
      "source": [
        "def build_model(x_train,y_train,max_features = 10000,maxlen = 200,epochs=10,batch_size=32,validation_split=0.2):\n",
        "  \n",
        "  from keras.models import Sequential\n",
        "  from keras.layers import Flatten, Dense\n",
        "  # Number of words to consider as features\n",
        "  #max_features = 10000\n",
        "  # Cut texts after this number of words \n",
        "  # (among top max_features most common words)\n",
        "  #maxlen = 200\n",
        "\n",
        "  # Load the data as lists of integers.\n",
        "  #(x_train, y_train), (x_test, y_test) = imdb.load_data(num_words=max_features)\n",
        "\n",
        "  # This turns our lists of integers\n",
        "  # into a 2D integer tensor of shape `(samples, maxlen)`\n",
        "  x_train = preprocessing.sequence.pad_sequences(x_train, maxlen=maxlen)\n",
        "  #x_test = preprocessing.sequence.pad_sequences(x_test, maxlen=maxlen)\n",
        "  \n",
        "  \n",
        "  # The Embedding layer takes at least two arguments:\n",
        "  # the number of possible tokens, here 1000 (1 + maximum word index),\n",
        "  # and the dimensionality of the embeddings, here 64.\n",
        "  #embedding_layer = Embedding(1000, 64)\n",
        "\n",
        "  model = Sequential()\n",
        "  model.add(Embedding(10000, 8, input_length=maxlen)) # the dimensionality of the embeddings, here 8. \n",
        "  model.add(Flatten())\n",
        "\n",
        "  model.add(Dense(1, activation='sigmoid'))\n",
        "  model.compile(optimizer='rmsprop', loss='binary_crossentropy', metrics=['acc'])\n",
        "  model.summary()\n",
        "\n",
        "  history = model.fit(x_train, y_train,\n",
        "                    epochs=10,\n",
        "                    batch_size=32,\n",
        "                    validation_split=0.2)\n",
        "  return history,model"
      ],
      "execution_count": 0,
      "outputs": []
    },
    {
      "metadata": {
        "id": "snDRPllq4Wyw",
        "colab_type": "text"
      },
      "cell_type": "markdown",
      "source": [
        "## Using pre-trained word embeddings\n",
        "\n",
        "\n",
        "When you have very little training data you can leverage pre-computed embeddings that are learnt on a different dataset. The \n",
        "rationale behind using pre-trained word embeddings in natural language processing is very much the same as for using pre-trained convnets \n",
        "in image classification: we don't have enough data available to learn truly powerful features on our own, but we expect the features that \n",
        "we need to be fairly generic, i.e. common visual features or semantic features. In this case it makes sense to reuse features learned on a \n",
        "different problem.\n",
        "\n",
        "There are various pre-computed databases of word embeddings that you can download and start using in a Keras `Embedding` layer. Word2Vec is one \n",
        "of them. Another popular one is called \"GloVe\", developed by Stanford researchers in 2014. It stands for \"Global Vectors for Word \n",
        "Representation\", and it is an embedding technique based on factorizing a matrix of word co-occurrence statistics. Its developers have made \n",
        "available pre-computed embeddings for millions of English tokens, obtained from Wikipedia data or from Common Crawl data.\n",
        "\n",
        "Let's take a look at how you can get started using GloVe embeddings in a Keras model. The same method will of course be valid for Word2Vec \n",
        "embeddings or any other word embedding database that you can download."
      ]
    },
    {
      "metadata": {
        "id": "7-sEBgNH4Wyx",
        "colab_type": "text"
      },
      "cell_type": "markdown",
      "source": [
        "## Putting it all together: from raw text to word embeddings\n",
        "\n",
        "\n",
        "We will be using a model similar to the one we just went over -- embedding sentences in sequences of vectors, flattening them and training a \n",
        "`Dense` layer on top. But we will do it using pre-trained word embeddings, and instead of using the pre-tokenized IMDB data packaged in \n",
        "Keras, we will start from scratch, by downloading the original text data."
      ]
    },
    {
      "metadata": {
        "id": "0hwrmCij4Wyx",
        "colab_type": "text"
      },
      "cell_type": "markdown",
      "source": [
        "### Download the IMDB data as raw text\n",
        "\n",
        "\n",
        "First, head to `http://ai.stanford.edu/~amaas/data/sentiment/` and download the raw IMDB dataset (if the URL isn't working anymore, just \n",
        "Google \"IMDB dataset\"). Uncompress it.\n",
        "\n",
        "Now let's collect the individual training reviews into a list of strings, one string per review, and let's also collect the review labels \n",
        "(positive / negative) into a `labels` list:"
      ]
    },
    {
      "metadata": {
        "id": "pPesPpMt4Wyy",
        "colab_type": "code",
        "colab": {}
      },
      "cell_type": "code",
      "source": [
        "import os\n",
        "\n",
        "imdb_dir = '/Users/anjalisridhar/kdd2018/workshop/datasets/aclImdb'\n",
        "train_dir = os.path.join(imdb_dir, 'train')\n",
        "\n",
        "labels = []\n",
        "texts = []\n",
        "\n",
        "for label_type in ['neg', 'pos']:\n",
        "    dir_name = os.path.join(train_dir, label_type)\n",
        "    for fname in os.listdir(dir_name):\n",
        "        if fname[-4:] == '.txt':\n",
        "            f = open(os.path.join(dir_name, fname))\n",
        "            texts.append(f.read())\n",
        "            f.close()\n",
        "            if label_type == 'neg':\n",
        "                labels.append(0)\n",
        "            else:\n",
        "                labels.append(1)"
      ],
      "execution_count": 0,
      "outputs": []
    },
    {
      "metadata": {
        "id": "gEtHLQ5C4Wy0",
        "colab_type": "text"
      },
      "cell_type": "markdown",
      "source": [
        "### Tokenize the data\n",
        "\n",
        "\n",
        "Let's vectorize the texts we collected, and prepare a training and validation split.\n",
        "We will merely be using the concepts we introduced earlier in this section.\n",
        "\n",
        "Because pre-trained word embeddings are meant to be particularly useful on problems where little training data is available (otherwise, \n",
        "task-specific embeddings are likely to outperform them), we will add the following twist: we restrict the training data to its first 200 \n",
        "samples.\n"
      ]
    },
    {
      "metadata": {
        "id": "GF-MRlRU4Wy0",
        "colab_type": "code",
        "colab": {}
      },
      "cell_type": "code",
      "source": [
        "from keras.preprocessing.text import Tokenizer\n",
        "from keras.preprocessing.sequence import pad_sequences\n",
        "import numpy as np\n",
        "\n",
        "maxlen = 100  # We will cut reviews after 100 words\n",
        "training_samples = 200  # We will be training on 200 samples\n",
        "validation_samples = 10000  # We will be validating on 10000 samples\n",
        "max_words = 10000  # We will only consider the top 10,000 words in the dataset\n",
        "\n",
        "tokenizer = Tokenizer(num_words=max_words)\n",
        "tokenizer.fit_on_texts(texts)\n",
        "sequences = tokenizer.texts_to_sequences(texts)\n",
        "\n",
        "word_index = tokenizer.word_index\n",
        "print('Found %s unique tokens.' % len(word_index))\n",
        "\n",
        "data = pad_sequences(sequences, maxlen=maxlen)\n",
        "\n",
        "labels = np.asarray(labels)\n",
        "print('Shape of data tensor:', data.shape)\n",
        "print('Shape of label tensor:', labels.shape)\n",
        "\n",
        "# Split the data into a training set and a validation set\n",
        "# But first, shuffle the data, since we started from data\n",
        "# where sample are ordered (all negative first, then all positive).\n",
        "indices = np.arange(data.shape[0])\n",
        "np.random.shuffle(indices)\n",
        "data = data[indices]\n",
        "labels = labels[indices]\n",
        "\n",
        "x_train = data[:training_samples]\n",
        "y_train = labels[:training_samples]\n",
        "x_val = data[training_samples: training_samples + validation_samples]\n",
        "y_val = labels[training_samples: training_samples + validation_samples]"
      ],
      "execution_count": 0,
      "outputs": []
    },
    {
      "metadata": {
        "id": "kp7zMVSy4Wy2",
        "colab_type": "text"
      },
      "cell_type": "markdown",
      "source": [
        "### Download the GloVe word embeddings\n",
        "\n",
        "\n",
        "Head to `https://nlp.stanford.edu/projects/glove/` (where you can learn more about the GloVe algorithm), and download the pre-computed \n",
        "embeddings from 2014 English Wikipedia. It's a 822MB zip file named `glove.6B.zip`, containing 100-dimensional embedding vectors for \n",
        "400,000 words (or non-word tokens). Un-zip it."
      ]
    },
    {
      "metadata": {
        "id": "FfHzZtRP4Wy2",
        "colab_type": "text"
      },
      "cell_type": "markdown",
      "source": [
        "### Pre-process the embeddings\n",
        "\n",
        "\n",
        "Let's parse the un-zipped file (it's a `txt` file) to build an index mapping words (as strings) to their vector representation (as number \n",
        "vectors)."
      ]
    },
    {
      "metadata": {
        "id": "qjgtBFpU4Wy2",
        "colab_type": "code",
        "colab": {}
      },
      "cell_type": "code",
      "source": [
        "glove_dir = '/Users/anjalisridhar/kdd2018/workshop/datasets/glove.6B'\n",
        "\n",
        "embeddings_index = {}\n",
        "f = open(os.path.join(glove_dir, 'glove.6B.100d.txt'))\n",
        "for line in f:\n",
        "    values = line.split()\n",
        "    word = values[0]\n",
        "    coefs = np.asarray(values[1:], dtype='float32')\n",
        "    embeddings_index[word] = coefs\n",
        "f.close()\n",
        "\n",
        "print('Found %s word vectors.' % len(embeddings_index))"
      ],
      "execution_count": 0,
      "outputs": []
    },
    {
      "metadata": {
        "id": "qAf_CQEf4Wy5",
        "colab_type": "text"
      },
      "cell_type": "markdown",
      "source": [
        "\n",
        "Now let's build an embedding matrix that we will be able to load into an `Embedding` layer. It must be a matrix of shape `(max_words, embedding_dim)`, where each entry `i` contains the `embedding_dim`-dimensional vector for the word of index `i` in our reference word index \n",
        "(built during tokenization). Note that the index `0` is not supposed to stand for any word or token -- it's a placeholder."
      ]
    },
    {
      "metadata": {
        "id": "_r9lyAnX4Wy5",
        "colab_type": "code",
        "colab": {}
      },
      "cell_type": "code",
      "source": [
        "embedding_dim = 100\n",
        "\n",
        "embedding_matrix = np.zeros((max_words, embedding_dim))\n",
        "for word, i in word_index.items():\n",
        "    embedding_vector = embeddings_index.get(word)\n",
        "    if i < max_words:\n",
        "        if embedding_vector is not None:\n",
        "            # Words not found in embedding index will be all-zeros.\n",
        "            embedding_matrix[i] = embedding_vector"
      ],
      "execution_count": 0,
      "outputs": []
    },
    {
      "metadata": {
        "id": "4ioiyiQH4Wy7",
        "colab_type": "text"
      },
      "cell_type": "markdown",
      "source": [
        "### Define a model\n",
        "\n",
        "We will be using the same model architecture as before:"
      ]
    },
    {
      "metadata": {
        "id": "I3grcIZc4Wy7",
        "colab_type": "code",
        "colab": {}
      },
      "cell_type": "code",
      "source": [
        "from keras.models import Sequential\n",
        "from keras.layers import Embedding, Flatten, Dense\n",
        "\n",
        "model = Sequential()\n",
        "model.add(Embedding(max_words, embedding_dim, input_length=maxlen))\n",
        "model.add(Flatten())\n",
        "model.add(Dense(32, activation='relu'))\n",
        "model.add(Dense(1, activation='sigmoid'))\n",
        "model.summary()"
      ],
      "execution_count": 0,
      "outputs": []
    },
    {
      "metadata": {
        "id": "XIQISoXA4Wy8",
        "colab_type": "text"
      },
      "cell_type": "markdown",
      "source": [
        "### Load the GloVe embeddings in the model\n",
        "\n",
        "\n",
        "The `Embedding` layer has a single weight matrix: a 2D float matrix where each entry `i` is the word vector meant to be associated with \n",
        "index `i`. Simple enough. Let's just load the GloVe matrix we prepared into our `Embedding` layer, the first layer in our model:"
      ]
    },
    {
      "metadata": {
        "id": "tnGuNQdR4Wy9",
        "colab_type": "code",
        "colab": {}
      },
      "cell_type": "code",
      "source": [
        "model.layers[0].set_weights([embedding_matrix])\n",
        "model.layers[0].trainable = False"
      ],
      "execution_count": 0,
      "outputs": []
    },
    {
      "metadata": {
        "id": "3QI8vT9D4Wy_",
        "colab_type": "text"
      },
      "cell_type": "markdown",
      "source": [
        "\n",
        "Additionally, we freeze the embedding layer (we set its `trainable` attribute to `False`), following the same rationale as what you are \n",
        "already familiar with in the context of pre-trained convnet features: when parts of a model are pre-trained (like our `Embedding` layer), \n",
        "and parts are randomly initialized (like our classifier), the pre-trained parts should not be updated during training to avoid forgetting \n",
        "what they already know. The large gradient update triggered by the randomly initialized layers would be very disruptive to the already \n",
        "learned features."
      ]
    },
    {
      "metadata": {
        "id": "S9va9qhk4Wy_",
        "colab_type": "text"
      },
      "cell_type": "markdown",
      "source": [
        "### Train and evaluate\n",
        "\n",
        "Let's compile our model and train it:"
      ]
    },
    {
      "metadata": {
        "id": "WO_mnWn34Wy_",
        "colab_type": "code",
        "colab": {}
      },
      "cell_type": "code",
      "source": [
        "model.compile(optimizer='rmsprop',\n",
        "              loss='binary_crossentropy',\n",
        "              metrics=['acc'])\n",
        "history = model.fit(x_train, y_train,\n",
        "                    epochs=10,\n",
        "                    batch_size=32,\n",
        "                    validation_data=(x_val, y_val))\n",
        "model.save_weights('pre_trained_glove_model.h5')"
      ],
      "execution_count": 0,
      "outputs": []
    },
    {
      "metadata": {
        "id": "pj5jgOaw4WzB",
        "colab_type": "text"
      },
      "cell_type": "markdown",
      "source": [
        "Let's plot its performance over time:"
      ]
    },
    {
      "metadata": {
        "id": "qWCsay7X4WzC",
        "colab_type": "code",
        "colab": {}
      },
      "cell_type": "code",
      "source": [
        "import matplotlib.pyplot as plt\n",
        "\n",
        "acc = history.history['acc']\n",
        "val_acc = history.history['val_acc']\n",
        "loss = history.history['loss']\n",
        "val_loss = history.history['val_loss']\n",
        "\n",
        "epochs = range(1, len(acc) + 1)\n",
        "\n",
        "plt.plot(epochs, acc, 'bo', label='Training acc')\n",
        "plt.plot(epochs, val_acc, 'b', label='Validation acc')\n",
        "plt.title('Training and validation accuracy')\n",
        "plt.legend()\n",
        "\n",
        "plt.figure()\n",
        "\n",
        "plt.plot(epochs, loss, 'bo', label='Training loss')\n",
        "plt.plot(epochs, val_loss, 'b', label='Validation loss')\n",
        "plt.title('Training and validation loss')\n",
        "plt.legend()\n",
        "\n",
        "plt.show()"
      ],
      "execution_count": 0,
      "outputs": []
    },
    {
      "metadata": {
        "id": "S_2jS7IK4WzE",
        "colab_type": "text"
      },
      "cell_type": "markdown",
      "source": [
        "\n",
        "The model quickly starts overfitting, unsurprisingly given the small number of training samples. Validation accuracy has high variance for \n",
        "the same reason, but seems to reach high 50s.\n",
        "\n",
        "Note that your mileage may vary: since we have so few training samples, performance is heavily dependent on which exact 200 samples we \n",
        "picked, and we picked them at random. If it worked really poorly for you, try picking a different random set of 200 samples, just for the \n",
        "sake of the exercise (in real life you don't get to pick your training data).\n",
        "\n",
        "We can also try to train the same model without loading the pre-trained word embeddings and without freezing the embedding layer. In that \n",
        "case, we would be learning a task-specific embedding of our input tokens, which is generally more powerful than pre-trained word embeddings \n",
        "when lots of data is available. However, in our case, we have only 200 training samples. Let's try it:"
      ]
    },
    {
      "metadata": {
        "id": "4PT7fyXj4WzF",
        "colab_type": "code",
        "colab": {}
      },
      "cell_type": "code",
      "source": [
        "from keras.models import Sequential\n",
        "from keras.layers import Embedding, Flatten, Dense\n",
        "\n",
        "model = Sequential()\n",
        "model.add(Embedding(max_words, embedding_dim, input_length=maxlen))\n",
        "model.add(Flatten())\n",
        "model.add(Dense(32, activation='relu'))\n",
        "model.add(Dense(1, activation='sigmoid'))\n",
        "model.summary()\n",
        "\n",
        "model.compile(optimizer='rmsprop',\n",
        "              loss='binary_crossentropy',\n",
        "              metrics=['acc'])\n",
        "history = model.fit(x_train, y_train,\n",
        "                    epochs=10,\n",
        "                    batch_size=32,\n",
        "                    validation_data=(x_val, y_val))"
      ],
      "execution_count": 0,
      "outputs": []
    },
    {
      "metadata": {
        "id": "7Uz5lwMO4WzG",
        "colab_type": "code",
        "colab": {}
      },
      "cell_type": "code",
      "source": [
        "acc = history.history['acc']\n",
        "val_acc = history.history['val_acc']\n",
        "loss = history.history['loss']\n",
        "val_loss = history.history['val_loss']\n",
        "\n",
        "epochs = range(1, len(acc) + 1)\n",
        "\n",
        "plt.plot(epochs, acc, 'bo', label='Training acc')\n",
        "plt.plot(epochs, val_acc, 'b', label='Validation acc')\n",
        "plt.title('Training and validation accuracy')\n",
        "plt.legend()\n",
        "\n",
        "plt.figure()\n",
        "\n",
        "plt.plot(epochs, loss, 'bo', label='Training loss')\n",
        "plt.plot(epochs, val_loss, 'b', label='Validation loss')\n",
        "plt.title('Training and validation loss')\n",
        "plt.legend()\n",
        "\n",
        "plt.show()"
      ],
      "execution_count": 0,
      "outputs": []
    },
    {
      "metadata": {
        "id": "pWQCuAx64WzI",
        "colab_type": "text"
      },
      "cell_type": "markdown",
      "source": [
        "\n",
        "Validation accuracy stalls in the low 50s. So in our case, pre-trained word embeddings does outperform jointly learned embeddings. If you \n",
        "increase the number of training samples, this will quickly stop being the case -- try it as an exercise.\n",
        "\n",
        "Finally, let's evaluate the model on the test data. First, we will need to tokenize the test data:"
      ]
    },
    {
      "metadata": {
        "id": "aixv_TsM4WzI",
        "colab_type": "code",
        "colab": {}
      },
      "cell_type": "code",
      "source": [
        "test_dir = os.path.join(imdb_dir, 'test')\n",
        "\n",
        "labels = []\n",
        "texts = []\n",
        "\n",
        "for label_type in ['neg', 'pos']:\n",
        "    dir_name = os.path.join(test_dir, label_type)\n",
        "    for fname in sorted(os.listdir(dir_name)):\n",
        "        if fname[-4:] == '.txt':\n",
        "            f = open(os.path.join(dir_name, fname))\n",
        "            texts.append(f.read())\n",
        "            f.close()\n",
        "            if label_type == 'neg':\n",
        "                labels.append(0)\n",
        "            else:\n",
        "                labels.append(1)\n",
        "\n",
        "sequences = tokenizer.texts_to_sequences(texts)\n",
        "x_test = pad_sequences(sequences, maxlen=maxlen)\n",
        "y_test = np.asarray(labels)"
      ],
      "execution_count": 0,
      "outputs": []
    },
    {
      "metadata": {
        "id": "CqvBbpET4WzJ",
        "colab_type": "text"
      },
      "cell_type": "markdown",
      "source": [
        "And let's load and evaluate the first model:"
      ]
    },
    {
      "metadata": {
        "id": "hKvomdlT4WzK",
        "colab_type": "code",
        "colab": {}
      },
      "cell_type": "code",
      "source": [
        "model.load_weights('pre_trained_glove_model.h5')\n",
        "model.evaluate(x_test, y_test)"
      ],
      "execution_count": 0,
      "outputs": []
    },
    {
      "metadata": {
        "id": "jaYPZDTn4WzL",
        "colab_type": "text"
      },
      "cell_type": "markdown",
      "source": [
        "We get an appalling test accuracy of ~55%."
      ]
    },
    {
      "metadata": {
        "id": "9eITjhSI4WzL",
        "colab_type": "text"
      },
      "cell_type": "markdown",
      "source": [
        "## A first recurrent layer in Keras"
      ]
    },
    {
      "metadata": {
        "id": "DUrbHmS54WzM",
        "colab_type": "code",
        "colab": {}
      },
      "cell_type": "code",
      "source": [
        "from keras.layers import SimpleRNN"
      ],
      "execution_count": 0,
      "outputs": []
    },
    {
      "metadata": {
        "id": "pIQl00so4WzN",
        "colab_type": "text"
      },
      "cell_type": "markdown",
      "source": [
        "`SimpleRNN` processes batches of sequences, like all other Keras layers, not just a single sequence.\n",
        "Like all recurrent layers in Keras, `SimpleRNN` can be run in two different modes: it can return either the full sequences of successive \n",
        "outputs for each timestep (a 3D tensor of shape `(batch_size, timesteps, output_features)`), or it can return only the last output for each \n",
        "input sequence (a 2D tensor of shape `(batch_size, output_features)`). These two modes are controlled by the `return_sequences` constructor \n",
        "argument. Let's take a look at an example:"
      ]
    },
    {
      "metadata": {
        "id": "Xuo_5des4WzO",
        "colab_type": "text"
      },
      "cell_type": "markdown",
      "source": [
        "## Exercise 2: Lets add a SimpleRNN layer to our model with embedding dimension 32"
      ]
    },
    {
      "metadata": {
        "id": "XxD6JdRt4WzO",
        "colab_type": "code",
        "colab": {}
      },
      "cell_type": "code",
      "source": [
        "from keras.models import Sequential\n",
        "from keras.layers import Embedding, SimpleRNN\n",
        "\n",
        "model = Sequential()\n",
        "# Add an Embedding layer of 10000 vocab size(or max features) and 32 dimensions\n",
        "# ...\n",
        "# Add a SimpleRNN layer of output 32 dimensions\n",
        "# ..."
      ],
      "execution_count": 0,
      "outputs": []
    },
    {
      "metadata": {
        "id": "D6wybuWt4WzP",
        "colab_type": "text"
      },
      "cell_type": "markdown",
      "source": [
        "It is sometimes useful to stack several recurrent layers one after the other in order to increase the representational power of a network. \n",
        "In such a setup, you have to get all intermediate layers to return full sequences:"
      ]
    },
    {
      "metadata": {
        "id": "5nAp_4Y44WzP",
        "colab_type": "code",
        "colab": {}
      },
      "cell_type": "code",
      "source": [
        "# Let us add 3 more SimpleRNN layers. This time we also want to set the \n",
        "# `return_sequences` parameter to be True.\n",
        "# This will return the output for each timestep as opposed to returning the output \n",
        "# for only the last timestep.\n",
        "# Compare model.summary() to see this difference.\n",
        "model = Sequential()\n",
        "model.add(Embedding(10000, 32))\n",
        "model.add(SimpleRNN(32, return_sequences=True))\n",
        "model.add(SimpleRNN(32, return_sequences=True))\n",
        "model.add(SimpleRNN(32, return_sequences=True))\n",
        "model.add(SimpleRNN(32))  # This last layer only returns the last outputs.\n",
        "model.summary()"
      ],
      "execution_count": 0,
      "outputs": []
    },
    {
      "metadata": {
        "id": "-oBhJoxl4WzR",
        "colab_type": "text"
      },
      "cell_type": "markdown",
      "source": [
        "Now let's try to use such a model on the IMDB movie review classification problem. First, let's preprocess the data:"
      ]
    },
    {
      "metadata": {
        "id": "P0GRd1Gx4WzR",
        "colab_type": "code",
        "colab": {}
      },
      "cell_type": "code",
      "source": [
        "from keras.datasets import imdb\n",
        "from keras.preprocessing import sequence\n",
        "\n",
        "max_features = 10000  # number of words to consider as features\n",
        "maxlen = 500  # cut texts after this number of words (among top max_features most common words)\n",
        "batch_size = 32\n",
        "\n",
        "print('Loading data...')\n",
        "(input_train, y_train), (input_test, y_test) = imdb.load_data(num_words=max_features)\n",
        "print(len(input_train), 'train sequences')\n",
        "print(len(input_test), 'test sequences')\n",
        "\n",
        "print('Pad sequences (samples x time)')\n",
        "input_train = sequence.pad_sequences(input_train, maxlen=maxlen)\n",
        "input_test = sequence.pad_sequences(input_test, maxlen=maxlen)\n",
        "print('input_train shape:', input_train.shape)\n",
        "print('input_test shape:', input_test.shape)"
      ],
      "execution_count": 0,
      "outputs": []
    },
    {
      "metadata": {
        "id": "LZj0S0YN4WzS",
        "colab_type": "text"
      },
      "cell_type": "markdown",
      "source": [
        "Let's train a simple recurrent network using an `Embedding` layer and a `SimpleRNN` layer:"
      ]
    },
    {
      "metadata": {
        "id": "jOdXnDqe4WzS",
        "colab_type": "code",
        "colab": {}
      },
      "cell_type": "code",
      "source": [
        "from keras.layers import Dense\n",
        "\n",
        "model = Sequential()\n",
        "model.add(Embedding(max_features, 32))\n",
        "model.add(SimpleRNN(32))\n",
        "model.add(Dense(1, activation='sigmoid'))\n",
        "\n",
        "model.compile(optimizer='rmsprop', loss='binary_crossentropy', metrics=['acc'])\n",
        "history = model.fit(input_train, y_train,\n",
        "                    epochs=10,\n",
        "                    batch_size=128,\n",
        "                    validation_split=0.2)"
      ],
      "execution_count": 0,
      "outputs": []
    },
    {
      "metadata": {
        "id": "jzspDbdz4WzU",
        "colab_type": "text"
      },
      "cell_type": "markdown",
      "source": [
        "Let's display the training and validation loss and accuracy:"
      ]
    },
    {
      "metadata": {
        "id": "L0o1FyyN4WzU",
        "colab_type": "code",
        "colab": {}
      },
      "cell_type": "code",
      "source": [
        "import matplotlib.pyplot as plt\n",
        "\n",
        "acc = history.history['acc']\n",
        "val_acc = history.history['val_acc']\n",
        "loss = history.history['loss']\n",
        "val_loss = history.history['val_loss']\n",
        "\n",
        "epochs = range(len(acc))\n",
        "\n",
        "plt.plot(epochs, acc, 'bo', label='Training acc')\n",
        "plt.plot(epochs, val_acc, 'b', label='Validation acc')\n",
        "plt.title('Training and validation accuracy')\n",
        "plt.legend()\n",
        "\n",
        "plt.figure()\n",
        "\n",
        "plt.plot(epochs, loss, 'bo', label='Training loss')\n",
        "plt.plot(epochs, val_loss, 'b', label='Validation loss')\n",
        "plt.title('Training and validation loss')\n",
        "plt.legend()\n",
        "\n",
        "plt.show()"
      ],
      "execution_count": 0,
      "outputs": []
    },
    {
      "metadata": {
        "id": "5tUIEWf84WzV",
        "colab_type": "text"
      },
      "cell_type": "markdown",
      "source": [
        "Unfortunately, our small \n",
        "recurrent network doesn't perform very well at all compared to this baseline (only up to 85% validation accuracy). Part of the problem is \n",
        "that our inputs only consider the first 500 words rather the full sequences -- \n",
        "hence our RNN has access to less information than our earlier baseline model. The remainder of the problem is simply that `SimpleRNN` isn't very good at processing long sequences, like text. Other types of recurrent layers perform much better. Let's take a look at some \n",
        "more advanced layers."
      ]
    },
    {
      "metadata": {
        "id": "fwNWcAH34WzV",
        "colab_type": "text"
      },
      "cell_type": "markdown",
      "source": [
        "## A concrete LSTM example in Keras\n",
        "Now let's switch to more practical concerns: we will set up a model using a LSTM layer and train it on the IMDB data. Here's the network, \n",
        "similar to the one with `SimpleRNN` that we just presented. We only specify the output dimensionality of the LSTM layer, and leave every \n",
        "other argument (there are lots) to the Keras defaults. Keras has good defaults, and things will almost always \"just work\" without you \n",
        "having to spend time tuning parameters by hand."
      ]
    },
    {
      "metadata": {
        "id": "6tkXSQYe4WzW",
        "colab_type": "text"
      },
      "cell_type": "markdown",
      "source": [
        "## Exercise 3: Use an LSTM layer instead of a SimpleRNN layer"
      ]
    },
    {
      "metadata": {
        "id": "ecM6xaH84WzW",
        "colab_type": "code",
        "colab": {}
      },
      "cell_type": "code",
      "source": [
        "from keras.layers import LSTM\n",
        "\n",
        "model = Sequential()\n",
        "# Add an Embedding layer as before with 10000 vocab size(max features) and 32 output dimensions\n",
        "# ...\n",
        "# Add a LSTM layer of 32 dimensions\n",
        "# ...\n",
        "\n",
        "\n",
        "model.compile(optimizer='rmsprop',\n",
        "              loss='binary_crossentropy',\n",
        "              metrics=['acc'])\n",
        "history = model.fit(input_train, y_train,\n",
        "                    epochs=10,\n",
        "                    batch_size=128,\n",
        "                    validation_split=0.2)"
      ],
      "execution_count": 0,
      "outputs": []
    },
    {
      "metadata": {
        "id": "yeu6K3JA4WzY",
        "colab_type": "code",
        "colab": {}
      },
      "cell_type": "code",
      "source": [
        "acc = history.history['acc']\n",
        "val_acc = history.history['val_acc']\n",
        "loss = history.history['loss']\n",
        "val_loss = history.history['val_loss']\n",
        "\n",
        "epochs = range(len(acc))\n",
        "\n",
        "plt.plot(epochs, acc, 'bo', label='Training acc')\n",
        "plt.plot(epochs, val_acc, 'b', label='Validation acc')\n",
        "plt.title('Training and validation accuracy')\n",
        "plt.legend()\n",
        "\n",
        "plt.figure()\n",
        "\n",
        "plt.plot(epochs, loss, 'bo', label='Training loss')\n",
        "plt.plot(epochs, val_loss, 'b', label='Validation loss')\n",
        "plt.title('Training and validation loss')\n",
        "plt.legend()\n",
        "\n",
        "plt.show()"
      ],
      "execution_count": 0,
      "outputs": []
    },
    {
      "metadata": {
        "id": "pWLUMCVe4WzZ",
        "colab_type": "text"
      },
      "cell_type": "markdown",
      "source": [
        "You can see that the accuracy is 87%, much higher than what we got with a SimpleRNN layer. "
      ]
    },
    {
      "metadata": {
        "id": "bvCDZpjI4WzZ",
        "colab_type": "code",
        "colab": {}
      },
      "cell_type": "code",
      "source": [
        "# Exercise 1: Solution\n",
        "# model.add(Embedding(10000, 8, input_length=maxlen))\n",
        "# model.add(Flatten())\n",
        "# model.add(Dense(1, activation='sigmoid'))"
      ],
      "execution_count": 0,
      "outputs": []
    },
    {
      "metadata": {
        "id": "QG9P9GXd4Wzb",
        "colab_type": "code",
        "colab": {}
      },
      "cell_type": "code",
      "source": [
        "# Exercise 2: Solution\n",
        "# model.add(Embedding(10000, 32))\n",
        "# model.add(SimpleRNN(32))\n",
        "# model.summary()"
      ],
      "execution_count": 0,
      "outputs": []
    },
    {
      "metadata": {
        "id": "k_TrYEUj4Wzc",
        "colab_type": "code",
        "colab": {}
      },
      "cell_type": "code",
      "source": [
        "# Exercise 3: Solution\n",
        "# model.add(Embedding(max_features, 32))\n",
        "# model.add(LSTM(32))\n",
        "# model.add(Dense(1, activation='sigmoid'))"
      ],
      "execution_count": 0,
      "outputs": []
    },
    {
      "metadata": {
        "id": "QtKkFjuq8CMc",
        "colab_type": "text"
      },
      "cell_type": "markdown",
      "source": [
        "# a day long practice in CDSW following two example here"
      ]
    },
    {
      "metadata": {
        "id": "4gdLNTYr790b",
        "colab_type": "code",
        "colab": {}
      },
      "cell_type": "code",
      "source": [
        "# Import Keras and verify that the TensorFlow backend is set as the default.\n",
        "!pip3 install keras\n",
        "!pip3 install tensorflow\n",
        "import keras\n",
        "keras.__version__\n",
        "\n",
        "import numpy as np\n",
        "\n",
        "\"\"\"\n",
        "import scipy\n",
        "print('scipy: %s' % scipy.__version__)\n",
        "# numpy\n",
        "import numpy\n",
        "print('numpy: %s' % numpy.__version__)\n",
        "# matplotlib\n",
        "import matplotlib\n",
        "print('matplotlib: %s' % matplotlib.__version__)\n",
        "# pandas\n",
        "import pandas\n",
        "print('pandas: %s' % pandas.__version__)\n",
        "# statsmodels\n",
        "import statsmodels\n",
        "print('statsmodels: %s' % statsmodels.__version__)\n",
        "# scikit-learn\n",
        "import sklearn\n",
        "print('sklearn: %s' % sklearn.__version__)\n",
        "\n",
        "!conda update scikit-learn\n",
        "\n",
        "!pip3 install scikit-learn\n",
        "\"\"\"\n",
        "\n",
        "## datasets\n",
        "\n",
        "\"\"\"\n",
        "Dataset\n",
        "We will be working with the Reuters dataset, \n",
        "a set of short newswires and their topics, \n",
        "published by Reuters in 1986. \n",
        "It's a very simple, widely used toy dataset for text classification. \n",
        "There are 46 different topics; some topics are more represented than others, but each topic has at least 10 examples in the training set.\n",
        "\n",
        "A number of datasets come packaged as part of Keras. A few examples of these Datasets can be found here. Some example datasets are IMDB, MNIST, CIFAR10 etc. The Reuters dataset also comes prepackaged with Keras. Lets take a look at what the data looks like.\n",
        "\"\"\"\n",
        "\n",
        "from keras.datasets import reuters\n",
        "\n",
        "(train_data, train_labels), (test_data, test_labels) = reuters.load_data(num_words=10000)\n",
        "\n",
        "## The argument num_words=10000 restricts the data to the 10,000 most frequently occurring words found in the data.\n",
        "\n",
        "## have 8,982 training examples and 2,246 test examples:\n",
        "\n",
        "8982+2246\n",
        "\n",
        "len(train_data)\n",
        "\n",
        "len(test_data)\n",
        "\n",
        "train_data.shape,test_data.shape\n",
        "\n",
        "type(train_data),train_data.shape\n",
        "\n",
        "## Each example is a list of integers (word indices):\n",
        "\n",
        "train_data[10]\n",
        "\n",
        "## Here's how you can decode it back to words, in case you are curious:\n",
        "\n",
        "word_index = reuters.get_word_index()\n",
        "\n",
        "reverse_word_index = dict([(value, key) for (key, value) in word_index.items()])\n",
        "\n",
        "len(reverse_word_index) # 30,979 unique words in the reuters datasets\n",
        "\n",
        "reverse_word_index.get(0)\n",
        "reverse_word_index.get(1)\n",
        "reverse_word_index.get(2)\n",
        "\n",
        "train_data[0]\n",
        "train_data[10]\n",
        "\n",
        "\n",
        "\n",
        "decoded_newswire_train_data_10 = ' '.join([reverse_word_index.get(i - 3, '?') for i in train_data[0]])\n",
        "\n",
        "decoded_newswire_train_data_10\n",
        "\n",
        "decoded_newswire_train_data_10_n = ' '.join([reverse_word_index.get(i - 2, '?') for i in train_data[0]])\n",
        "\n",
        "decoded_newswire_train_data_10_n\n",
        "\n",
        "\n",
        "# Note that our indices were offset by 3\n",
        "\n",
        "# because 0, 1 and 2 are reserved indices for \"padding\", \"start of sequence\", and \"unknown\".\n",
        "\n",
        "decoded_newswire = ' '.join([reverse_word_index.get(i - 3, '?') for i in train_data[0]])\n",
        "\n",
        "decoded_newswire\n",
        "\n",
        "\n",
        "#Since we limit the number of word index dictionary to the first 10000 words, there is a chance that the newswire will have words that do not have an index associated with it. This is what the ? symbol represents in the above newswire.\n",
        "\n",
        "#The label associated with an example is an integer between 0 and 45: a topic index.\n",
        "\n",
        "train_labels[10]\n",
        "\n",
        "train_labels[0]\n",
        "\n",
        "train_labels.shape\n",
        "\n",
        "type(train_labels)\n",
        "\n",
        "unique, counts = np.unique(train_labels, return_counts=True)\n",
        "\n",
        "print (np.asarray((unique, counts)).T)\n",
        "\n",
        "type(counts)\n",
        "\n",
        "counts.sum()\n",
        "\n",
        "Preparing the data\n",
        "\n",
        "We can vectorize the data with the exact same code as in our previous example:\n",
        "\n",
        "import numpy as np\n",
        "\n",
        "results = np.zeros((len(train_data), 10000))\n",
        "type(results), results.shape\n",
        "\n",
        "type(train_data)\n",
        "\n",
        "test_train_data = train_data[:2]\n",
        "\n",
        "type(test_train_data),test_train_data.shape\n",
        "\n",
        "type(train_data),train_data.shape\n",
        "\n",
        "results = np.zeros((len(test_train_data), 10000))\n",
        "\n",
        "results\n",
        "\n",
        "  for i, data in enumerate(test_train_data):\n",
        "    print(\"line %s\" %i)\n",
        "    print(i,data)\n",
        "\n",
        "    results[i, data] = 1.\n",
        "results.shape\n",
        "\n",
        "results[0][:18]\n",
        "\n",
        "results.shape\n",
        "\n",
        "def vectorize_sequences(sequences, dimension=10000):\n",
        "\n",
        "    results = np.zeros((len(sequences), dimension))\n",
        "\n",
        "    for i, sequence in enumerate(sequences):\n",
        "\n",
        "        results[i, sequence] = 1.\n",
        "\n",
        "    return results\n",
        "\n",
        "\n",
        "# Our vectorized training data\n",
        "\n",
        "x_train = vectorize_sequences(train_data)\n",
        "\n",
        "# Our vectorized test data\n",
        "\n",
        "x_test = vectorize_sequences(test_data)\n",
        "\n",
        "x_train[0][:10]\n",
        "\n",
        "\n",
        "To vectorize the labels, there are two possibilities: we could just cast the label list as an integer tensor, or we could use a \"one-hot\" encoding. One-hot encoding of our labels consists in embedding each label as an all-zero vector with a 1 in the place of the label index. You can do this using a built-in Keras function:\n",
        "\n",
        "from keras.utils.np_utils import to_categorical\n",
        "\n",
        "\n",
        "one_hot_train_labels = to_categorical(train_labels)\n",
        "\n",
        "type(one_hot_train_labels)\n",
        "one_hot_train_labels.size\n",
        "one_hot_train_labels.shape\n",
        "\n",
        "one_hot_train_labels.shape\n",
        "train_labels.shape\n",
        "\n",
        "one_hot_train_labels[:5]\n",
        "\n",
        "one_hot_test_labels = to_categorical(test_labels)\n",
        "\n",
        "one_hot_test_labels.shape\n",
        "\n",
        "Building our network\n",
        "\n",
        "In this topic classification problem we are trying to classify short snippets of text. \n",
        "\n",
        "The difference between a binary classification problem and this one is that the number of output class is 46 \n",
        "\n",
        "i.e the dimensionality of the output space is much larger. \n",
        "\n",
        "(A binary classification problem is one in which there are two possible output clases.)\n",
        "Build a Sequential model:\n",
        "\n",
        "from keras import models\n",
        "\n",
        "from keras import layers\n",
        "\n",
        "x_train.shape,x_test.shape\n",
        "\n",
        "# Instantiate a Sequential Model\n",
        "\n",
        "model = models.Sequential()\n",
        "\n",
        "# Add 2 Dense layers of 64 units each to the model. Let `relu` be the activation function.\n",
        "\n",
        "# Note: Specify the input_shape argument for the first layer.\n",
        "\n",
        "model.add(layers.Dense(64, activation='relu', input_shape=(10000,)))\n",
        "\n",
        "model.add(layers.Dense(64, activation='relu'))\n",
        "\n",
        "# Add a final Dense layer that classifies the output\n",
        "\n",
        "# Note: You should use 46 units since out output dimension is going to be the number of output classes). \n",
        "\n",
        "# Let `softmax` be the activation function.\n",
        "\n",
        "model.add(layers.Dense(46, activation='softmax'))\n",
        "\n",
        "Some things to note about this architecture:\n",
        "\n",
        "    We are ending the network with a Dense layer of size 46. This means that for each input sample, \n",
        "    our network will output a 46-dimensional vector. Each entry in this vector (each dimension) will encode a different output class.\n",
        "    We are using the Relu function for activation.\n",
        "    The last layer uses a softmax activation. \n",
        "    It means that the network will output a probability distribution over the 46 different output classes, \n",
        "    i.e. for every input sample, the network will produce a 46-dimensional output vector \n",
        "    where output[i] is the probability that the sample belongs to class i. The 46 scores will sum to 1.\n",
        "\n",
        "Compile the model:\n",
        "\n",
        "Compiling the model is \"freezing\" the model with certain attributes set such as loss, optimizer, metrics etc.\n",
        "\n",
        "# Compile the model with a \"rmsprop\" optimizer, \"categorical_crossentropy\" loss and \"accuracy\" \\\n",
        "\n",
        "# metric.\n",
        "\n",
        "model.compile(optimizer='rmsprop',\n",
        "\n",
        "              loss='categorical_crossentropy',\n",
        "\n",
        "              metrics=['accuracy'])\n",
        "\n",
        "In Keras you can specify the different parameters above as strings such as \"rmsprop\" or as keras.optimizers.RMSprop. \n",
        "You can do the same for loss and metrics. Here are a list of optimizers, loss functions and metrics that are available in Keras.\n",
        "\n",
        "In our example above the best loss function to use categorical_crossentropy \n",
        "since it measures the distance between the probability distribution output by our network and the true distribution of the labels. \n",
        "\n",
        "By minimizing the distance between these two distributions, \n",
        "we train our network to output something as close as possible to the true labels.\n",
        "\n",
        "Another point to note is if we had used output labels as integer tensors instead of one-hot encoded vectors, \n",
        "then we should usesparse_categorical_crossentropy instead of categorical_crossentropy.\n",
        "Training our model\n",
        "\n",
        "Let's set apart 1,000 samples in our training data to use as a validation set:\n",
        "\n",
        "# Split the training data into train and validation datasets.\n",
        "\n",
        "x_val = x_train[:1000]\n",
        "\n",
        "partial_x_train = x_train[1000:]\n",
        "\n",
        "partial_x_train.shape\n",
        "\n",
        "​\n",
        "\n",
        "y_val = one_hot_train_labels[:1000]\n",
        "\n",
        "partial_y_train = one_hot_train_labels[1000:]\n",
        "\n",
        "Now let's train our network for 20 epochs:\n",
        "\n",
        "# Use the `fit` call with the above training and validation datasets. \n",
        "\n",
        "# Use can use a batch size of 512.\n",
        "\n",
        "history = model.fit(partial_x_train,\n",
        "\n",
        "                    partial_y_train,\n",
        "\n",
        "                    epochs=20,\n",
        "\n",
        "                    batch_size=512,\n",
        "\n",
        "                    validation_data=(x_val, y_val))\n",
        "\n",
        "Let's display its loss and accuracy curves:\n",
        "\n",
        "import matplotlib.pyplot as plt\n",
        "\n",
        "​\n",
        "\n",
        "loss = history.history['loss']\n",
        "\n",
        "val_loss = history.history['val_loss']\n",
        "\n",
        "​\n",
        "\n",
        "def plot_fun(loss,val_loss):\n",
        "\n",
        "  epochs = range(1, len(loss) + 1)\n",
        "  plt.plot(epochs, loss, 'bo', label='Training loss')\n",
        "\n",
        "  plt.plot(epochs, val_loss, 'b', label='Validation loss')\n",
        "  plt.title('Training and validation loss')\n",
        "\n",
        "  plt.xlabel('Epochs')\n",
        "\n",
        "  plt.ylabel('Loss')\n",
        "\n",
        "  plt.legend()\n",
        "\n",
        "  plt.show()\n",
        "\n",
        "#plt.clf()   # clear figure\n",
        "\n",
        "plot_fun(loss,val_loss)\n",
        "\n",
        "​\n",
        "\n",
        "acc = history.history['acc']\n",
        "\n",
        "val_acc = history.history['val_acc']\n",
        "\n",
        "def plot_acc(loss,acc,val_acc):\n",
        "  \n",
        "  epochs = range(1, len(loss) + 1)\n",
        "\n",
        "  plt.plot(epochs, acc, 'bo', label='Training acc')\n",
        "\n",
        "  plt.plot(epochs, val_acc, 'b', label='Validation acc')\n",
        "\n",
        "  plt.title('Training and validation accuracy')\n",
        "\n",
        "  plt.xlabel('Epochs')\n",
        "\n",
        "  plt.ylabel('Loss')\n",
        "\n",
        "  plt.legend()\n",
        "\n",
        "\n",
        "  plt.show()\n",
        "\n",
        "plot_acc(loss,acc,val_acc)\n",
        "\n",
        "## It seems that the network starts overfitting after 8 epochs.\n",
        "# Let's train a new network from scratch for 8 epochs, then let's evaluate it on the test set:\n",
        "\n",
        "# Use the same model from before and train the model as before. \n",
        "\n",
        "# However for this run let the number of epochs be 8.\n",
        "\n",
        "model = models.Sequential()\n",
        "\n",
        "model.add(layers.Dense(64, activation='relu', input_shape=(10000,)))\n",
        "\n",
        "model.add(layers.Dense(64, activation='relu'))\n",
        "\n",
        "model.add(layers.Dense(46, activation='softmax'))\n",
        "\n",
        "\n",
        "model.compile(optimizer='rmsprop',\n",
        "\n",
        "              loss='categorical_crossentropy',\n",
        "\n",
        "              metrics=['accuracy'])\n",
        "\n",
        "\n",
        "\n",
        "history_8 = model.fit(partial_x_train,\n",
        "\n",
        "                    partial_y_train,\n",
        "\n",
        "                    epochs=8,\n",
        "\n",
        "                    batch_size=512,\n",
        "\n",
        "                    validation_data=(x_val, y_val))\n",
        "\n",
        "Evaluate the model:\n",
        "\n",
        "# Use `evaluate` the model with the test training input(x_test) and \n",
        "\n",
        "# the one-hot encoded labels(one_hot_test_labels).\n",
        "\n",
        "results = model.evaluate(x_test, one_hot_test_labels)\n",
        "\n",
        "results\n",
        "\n",
        "Our approach reaches an accuracy of ~78%. \n",
        "With a balanced binary classification problem, \n",
        "the accuracy reached by a purely random classifier would be 50%,\n",
        "but in our case it is closer to 19%, \n",
        "so our results seem pretty good, at least when compared to a random baseline:\n",
        "\n",
        "import copy\n",
        "\n",
        "​\n",
        "\n",
        "test_labels_copy = copy.copy(test_labels)\n",
        "\n",
        "np.random.shuffle(test_labels_copy)\n",
        "\n",
        "float(np.sum(np.array(test_labels) == np.array(test_labels_copy))) / len(test_labels)\n",
        "\n",
        "Exercise 1: Now let us try with a larger network with 128 Dense units:\n",
        "\n",
        "# Use the same model as before but with 128 units set for the first two Dense layers. `compile`, `fit` and `evaluate`\n",
        "\n",
        "# the model as before. You can also plot the loss and accuracy to see the behavior of the model.\n",
        "\n",
        "\n",
        "\n",
        "# Define your model here\n",
        "\n",
        "# ...\n",
        "\n",
        "model = models.Sequential()\n",
        "\n",
        "model.add(layers.Dense(128, activation='relu', input_shape=(10000,)))\n",
        "\n",
        "model.add(layers.Dense(128, activation='relu'))\n",
        "\n",
        "model.add(layers.Dense(46, activation='softmax'))\n",
        "\n",
        "model.compile(optimizer='rmsprop',\n",
        "\n",
        "              loss='categorical_crossentropy',\n",
        "\n",
        "              metrics=['accuracy'])\n",
        "\n",
        "print(model.summary())\n",
        "\n",
        "history_128 = model.fit(partial_x_train,\n",
        "\n",
        "          partial_y_train,\n",
        "\n",
        "          epochs=20,\n",
        "\n",
        "          batch_size=512,\n",
        "\n",
        "          validation_data=(x_val, y_val))\n",
        "\n",
        "results = model.evaluate(x_test, one_hot_test_labels)\n",
        "\n",
        "results\n",
        "\n",
        "​\n",
        "\n",
        "plt.clf()   # clear figure\n",
        "\n",
        "def plt_all(history):\n",
        "\n",
        "  loss = history.history['loss']\n",
        "\n",
        "  val_loss = history.history['val_loss']\n",
        "  \n",
        "  plot_fun(loss,val_loss)\n",
        "\n",
        "\n",
        "  acc = history.history['acc']\n",
        "\n",
        "  val_acc = history.history['val_acc']\n",
        "\n",
        "  plot_acc(loss,acc,val_acc)\n",
        "\n",
        "plt_all(history_128)\n",
        "## As you can see, with the larger network we get a slight increase in accuracy \n",
        "but the network seems to perform just as good previously.\n",
        "Exercise 2: Now let us train the model with a single Dense layer network:\n",
        "\n",
        "# Use the same model as before but with 1 units set for a single Dense layer. `compile`, `fit` and `evaluate`\n",
        "\n",
        "# the model as before. You can also plot the loss and accuracy to see the behavior of the model.\n",
        "\n",
        "​\n",
        "\n",
        "\n",
        "\n",
        "# Define your model here\n",
        "\n",
        "# \n",
        "\n",
        "model = models.Sequential()\n",
        "model.add(layers.Dense(1, activation='relu', input_shape=(10000,)))\n",
        "model.add(layers.Dense(46, activation='softmax'))\n",
        "model.compile(optimizer='rmsprop',\n",
        "\n",
        "              loss='categorical_crossentropy',\n",
        "\n",
        "              metrics=['accuracy'])\n",
        "\n",
        "\n",
        "history_1 = model.fit(partial_x_train,\n",
        "\n",
        "          partial_y_train,\n",
        "\n",
        "          epochs=20,\n",
        "\n",
        "          batch_size=512,\n",
        "\n",
        "          validation_data=(x_val, y_val))\n",
        "\n",
        "results_1 = model.evaluate(x_test, one_hot_test_labels)\n",
        "print(results_1)\n",
        "\n",
        "plt_all(history_1)\n",
        "\n",
        "\n",
        "\n",
        "You can see that the accuracy stagnates at around 35% since the network is unable to learn any new information \n",
        "from the data.\n",
        "\n",
        "## Generating predictions on new data\n",
        "\n",
        "We can verify that the predict method of our model instance returns a probability distribution over all 46 topics.\n",
        "\n",
        "Let's generate topic predictions for all of the test data:\n",
        "\n",
        "predictions = model.predict(x_test)\n",
        "\n",
        "Each entry in predictions is a vector of length 46:\n",
        "\n",
        "predictions[0].shape\n",
        "\n",
        "predictions.shape\n",
        "\n",
        "The coefficients in this vector sum to 1:\n",
        "\n",
        "np.sum(predictions[0])\n",
        "\n",
        "The largest entry is the predicted class, i.e. the class with the highest probability:\n",
        "\n",
        "np.argmax(predictions[0])\n",
        "\n",
        "predictions[0]\n",
        "\n",
        "Dealing with overfitting:\n",
        "\n",
        "Common ways to deal with overfitting is to train the model on more data \n",
        "or even to reduce the capacity of the network. \n",
        "A bigger network gets its training loss near zero very quickly. \n",
        "The more capacity the network has, the quicker it will be able to model the training data \n",
        "(resulting in a low training loss), \n",
        "but the more susceptible it is to overfitting (resulting in a large difference between the training and validation loss). \n",
        "Other techniques to deal with overfitting is using weight regularization and dropout. \n",
        "Keras provides APIs that make it very simple to use these techniques.\n",
        "Adding weight regularization:\n",
        "\n",
        "A common way to mitigate overfitting is to put constraints on the complexity of a network by forcing its weights \n",
        "to only take small values, \n",
        "which makes the distribution of weight values more \"regular\". \n",
        "This is called \"weight regularization\", \n",
        "and it is done by adding to the loss function of the network a cost associated with having large weights. \n",
        "This cost comes in two flavors:\n",
        "\n",
        "L1 regularization, \n",
        "where the cost added is proportional to the absolute value of the weights coefficients \n",
        "(i.e. to what is called the \"L1 norm\" of the weights). \n",
        "\n",
        "L2 regularization, where the cost added is proportional to the square of the value of the weights coefficients \n",
        "(i.e. to what is called the \"L2 norm\" of the weights). \n",
        "L2 regularization is also called weight decay in the context of neural networks. \n",
        "\n",
        "Don't let the different name confuse you: weight decay is mathematically the exact same as L2 regularization. \n",
        "\n",
        "In Keras, weight regularization is added by passing weight regularizer instances to layers as keyword arguments. \n",
        "\n",
        "Let's add L2 weight regularization to an example Dense layer:\n",
        "\n",
        "from keras import regularizers\n",
        "\n",
        "mock_dense_layer = layers.Dense(64, kernel_regularizer=regularizers.l2(0.001), activation='relu', input_shape=(10000,))\n",
        "\n",
        "Adding dropout:\n",
        "\n",
        "Dropout, applied to a layer, \n",
        "consists of randomly \"dropping out\" \n",
        "(i.e. setting to zero) a number of output features of the layer during training. \n",
        "Let's say a given layer would normally have returned a vector [0.2, 0.5, 1.3, 0.8, 1.1] \n",
        "for a given input sample during training; after applying dropout,\n",
        "this vector will have a few zero entries distributed at random, e.g. [0, 0.5, 1.3, 0, 1.1]. \n",
        "The \"dropout rate\" is the fraction of the features that are being zeroed-out; \n",
        "it is usually set between 0.2 and 0.5. \n",
        "At test time, no units are dropped out, and instead the layer's output values are scaled down by a factor equal to the dropout rate,\n",
        "so as to balance for the fact that more units are active than at training time.\n",
        "\n",
        "# An example Dropout layer:\n",
        "\n",
        "#...\n",
        "\n",
        "mock_model.add(layers.Dense(16, activation='relu', input_shape=(10000,)))\n",
        "\n",
        "mock_model.add(layers.Dropout(0.5)) # 0.5 is the dropout rate\n",
        "\n",
        "#...\n",
        "\n",
        "Callbacks\n",
        "\n",
        "You can use Keras built-in callbacks to checkpoint your model, save TensorBoard summaries, adjust learning rate during training etc. Callbacks are a way to perform an action, view internal state or model statistics at the beginning/end of the training loop, an epoch or a step in the fit loop. Let's instantiate the ModelCheckpoint and TensorBoard callback:\n",
        "Exercise 3: Create a ModelCheckpoint and TensorBoard callback.\n",
        "\n",
        "from keras import callbacks\n",
        "\n",
        "# Create a ModelCheckpoint callback by specifying a filepath such a s'/tmp/checkpoints'. \n",
        "# You can look at some of the\n",
        "\n",
        "# other parameters that you can set in the link above.\n",
        "\n",
        "# ...\n",
        "\n",
        "\n",
        "\n",
        "# \n",
        "\n",
        "# Create a ModelCheckpoint callback\n",
        "\n",
        "# model_checkpoint_cb = \n",
        "\n",
        "model_checkpoint_cb = callbacks.ModelCheckpoint('/tmp/checkpoints',\n",
        "                                                monitor='val_loss',\n",
        "                                                period=1)\n",
        "\n",
        "# Create a TensorBoard callback that writes model summaries to a given directory such as '/tmp/logs'.\n",
        "\n",
        "# tensorboard_cb = \n",
        "\n",
        "tensorboard_cb = callbacks.TensorBoard(log_dir='/tmp/logs')\n",
        "\n",
        "# Let us use our model from above:\n",
        "\n",
        "from keras import models\n",
        "\n",
        "from keras import layers\n",
        "\n",
        "\n",
        "model = models.Sequential()\n",
        "\n",
        "model.add(layers.Dense(64, activation='relu', input_shape=(10000,)))\n",
        "\n",
        "model.add(layers.Dense(64, activation='relu'))\n",
        "\n",
        "model.add(layers.Dense(46, activation='softmax'))\n",
        "\n",
        "\n",
        "model.compile(optimizer='rmsprop',\n",
        "\n",
        "              loss='categorical_crossentropy',\n",
        "\n",
        "              metrics=['accuracy'])\n",
        "\n",
        "\n",
        "# Pass the callbacks instantiated above to the `callbacks` parameter in the `fit` call.\n",
        "\n",
        "history_64 = model.fit(partial_x_train,\n",
        "\n",
        "          partial_y_train,\n",
        "\n",
        "          epochs=20,\n",
        "\n",
        "          batch_size=512,\n",
        "\n",
        "          validation_data=(x_val, y_val),\n",
        "\n",
        "          callbacks=[model_checkpoint_cb, tensorboard_cb])\n",
        "\n",
        "## You should be able to view TensorBoard summaries by using the following command: \n",
        "\n",
        "## tensorboard --logdir=/full_path_to_your_logs. Make sure to have installed the TensorBoard pip package.\n",
        "!ls /tmp/logs\n",
        "\n",
        "!ls /tmp/checkpoints\n",
        "!tensorboard --logdir=/tmp/logs\n",
        "# Exercise 1: Solution\n",
        "\n",
        "plt_all(history_64)\n",
        "\n",
        "# model = models.Sequential()\n",
        "\n",
        "# model.add(layers.Dense(128, activation='relu', input_shape=(10000,)))\n",
        "\n",
        "# model.add(layers.Dense(128, activation='relu'))\n",
        "\n",
        "# model.add(layers.Dense(46, activation='softmax'))\n",
        "\n",
        "# Exercise 2: Solution\n",
        "\n",
        "# model = models.Sequential()\n",
        "\n",
        "# model.add(layers.Dense(1, activation='relu', input_shape=(10000,)))\n",
        "\n",
        "# model.add(layers.Dense(46, activation='softmax'))\n",
        "\n",
        "# Exercise 3: Solution\n",
        "\n",
        "# model_checkpoint_cb = callbacks.ModelCheckpoint('/tmp/checkpoints',\n",
        "\n",
        "#                                                monitor='val_loss',\n",
        "\n",
        "#                                                period=1)\n",
        "\n",
        "​\n",
        "\n",
        "# tensorboard_cb = callbacks.TensorBoard(log_dir='/tmp/logs')\n",
        "\n",
        "\"\"\"\n",
        "\n",
        "Dataset\n",
        "Let's consider IMDB movie review sentiment prediction task that you are already familiar with. Let's quickly prepare the data. We will restrict the movie reviews to the top 10,000 most common words, and cut the reviews after only 20 words. Our network will simply learn 8-dimensional embeddings for each of the 10,000 words, turn the input integer sequences (2D integer tensor) into embedded sequences (3D float tensor), flatten the tensor to 2D, and train a single Dense layer on top for classification.\n",
        "\n",
        "\"\"\"\n",
        "\n",
        "from keras.datasets import imdb\n",
        "from keras import preprocessing\n",
        "\n",
        "# Number of words to consider as features\n",
        "imdb_max_features = 10000\n",
        "# Cut texts after this number of words \n",
        "# (among top max_features most common words)\n",
        "#imdb_maxlen = 20\n",
        "\n",
        "# Load the data as lists of integers.\n",
        "(imdb_x_train, imdb_y_train), (imdb_x_test, imdb_y_test) = imdb.load_data(num_words=imdb_max_features)\n",
        "\n",
        "from keras.models import Sequential\n",
        "from keras.layers import Flatten, Dense\n",
        "from keras.layers import Embedding\n",
        "\n",
        "model = Sequential()\n",
        "# Add an Embedding Layer with maximum number of tokes to be 10000 and embedding dimensionality as 8. \n",
        "# Let the input_length be the maximum length of each review i.e 20 as seen previously.\n",
        "# After the Embedding layer, \n",
        "# our activations have shape `(samples, maxlen, 8)`.\n",
        "\n",
        "# We flatten the 3D tensor of embeddings \n",
        "# into a 2D tensor of shape `(samples, maxlen * 8)`\n",
        "# ...\n",
        "# We add a Dense classifier on top\n",
        "# ...\n",
        "\n",
        "# Exercise 1: Solution\n",
        "maxlen = 20\n",
        "\n",
        "\"\"\"no padding \n",
        "will have this error\n",
        "ValueError: Error when checking input: expected embedding_2_input to have shape (20,) but got array with shape (1,)\n",
        "\n",
        "\"\"\"\n",
        "\n",
        "model.add(Embedding(10000, 8, input_length=maxlen))\n",
        "model.add(Flatten())\n",
        "model.add(Dense(1, activation='sigmoid'))\n",
        "\n",
        "model.compile(optimizer='rmsprop', loss='binary_crossentropy', metrics=['acc'])\n",
        "model.summary()\n",
        "\n",
        "history_20 = model.fit(imdb_x_train, imdb_y_train,\n",
        "                    epochs=10,\n",
        "                    batch_size=32,\n",
        "                    validation_split=0.2)\n",
        "\n",
        "\n",
        "def build_model(x_train,y_train,max_features = 10000,maxlen = 200,epochs=10,batch_size=32,validation_split=0.2):\n",
        "  \n",
        "  from keras.models import Sequential\n",
        "  from keras.layers import Flatten, Dense\n",
        "  # Number of words to consider as features\n",
        "  #max_features = 10000\n",
        "  # Cut texts after this number of words \n",
        "  # (among top max_features most common words)\n",
        "  #maxlen = 200\n",
        "\n",
        "  # Load the data as lists of integers.\n",
        "  #(x_train, y_train), (x_test, y_test) = imdb.load_data(num_words=max_features)\n",
        "\n",
        "  # This turns our lists of integers\n",
        "  # into a 2D integer tensor of shape `(samples, maxlen)`\n",
        "  x_train = preprocessing.sequence.pad_sequences(x_train, maxlen=maxlen)\n",
        "  #x_test = preprocessing.sequence.pad_sequences(x_test, maxlen=maxlen)\n",
        "  \n",
        "  \n",
        "  # The Embedding layer takes at least two arguments:\n",
        "  # the number of possible tokens, here 1000 (1 + maximum word index),\n",
        "  # and the dimensionality of the embeddings, here 64.\n",
        "  #embedding_layer = Embedding(1000, 64)\n",
        "\n",
        "  model = Sequential()\n",
        "  model.add(Embedding(10000, 8, input_length=maxlen)) # the dimensionality of the embeddings, here 8. \n",
        "  model.add(Flatten())\n",
        "\n",
        "  model.add(Dense(1, activation='sigmoid'))\n",
        "  model.compile(optimizer='rmsprop', loss='binary_crossentropy', metrics=['acc'])\n",
        "  model.summary()\n",
        "\n",
        "  history_200 = model.fit(x_train, y_train,\n",
        "                    epochs=10,\n",
        "                    batch_size=32,\n",
        "                    validation_split=0.2)\n",
        "  return history_200,model\n",
        "\n",
        "hist_20,model_20 = build_model(imdb_x_train,imdb_y_train,maxlen = 20)\n",
        "\n",
        "plt_all(hist_20)\n",
        "\n",
        "hist_200,model_200 = build_model(imdb_x_train,imdb_y_train,maxlen = 200)\n",
        "plt_all(hist_200)\n",
        "\n",
        "## Putting it all together: from raw text to word embeddings\n",
        "\n",
        "import os\n",
        "# /resources/data/imdb_raw/aclImdb\n",
        "imdb_dir = 'resources/data/imdb_raw/aclImdb'\n",
        "train_dir = os.path.join(imdb_dir, 'train')\n",
        "train_dir\n",
        "labels = []\n",
        "texts = []\n",
        "\n",
        "\n",
        "for label_type in ['neg', 'pos']:\n",
        "    dir_name = os.path.join(train_dir, label_type)\n",
        "    \n",
        "    print(dir_name)\n",
        "\n",
        "for label_type in ['neg', 'pos']:\n",
        "    dir_name = os.path.join(train_dir, label_type)\n",
        "    for fname in os.listdir(dir_name):\n",
        "        if fname[-4:] == '.txt':\n",
        "            f = open(os.path.join(dir_name, fname))\n",
        "            texts.append(f.read())\n",
        "            f.close()\n",
        "            if label_type == 'neg':\n",
        "                labels.append(0)\n",
        "            else:\n",
        "                labels.append(1)\n",
        "len(texts),len(labels)\n",
        "\n",
        "print('Shape of data :', len(texts))\n",
        "print('Shape of label tensor:', len(labels))\n",
        "\n",
        "labels[1],texts[1]\n",
        "\n",
        "for i in range(10):\n",
        "  print(\"line %s review --- it is a %d ------\" %(i,labels[i]))\n",
        "  print(texts[i])\n",
        "\n",
        "import numpy as np\n",
        "key,values = np.unique(labels,return_counts=True)\n",
        "\n",
        "key,values\n",
        "\n",
        "## Tokenize the data\n",
        "Let's vectorize the texts we collected, and prepare a training and validation split. \n",
        "We will merely be using the concepts we introduced earlier in this section.\n",
        "\n",
        "Because pre-trained word embeddings are meant to be particularly useful on problems \n",
        "where little training data is available \n",
        "(otherwise, task-specific embeddings are likely to outperform them), \n",
        "we will add the following twist: we restrict the training data to its first 200 samples.\n",
        "  \n",
        "from keras.preprocessing.text import Tokenizer\n",
        "from keras.preprocessing.sequence import pad_sequences\n",
        "import numpy as np\n",
        "\n",
        "maxlen = 100  # We will cut reviews after 100 words\n",
        "training_samples = 200  # We will be training on 200 samples\n",
        "validation_samples = 10000  # We will be validating on 10000 samples\n",
        "max_words = 10000  # We will only consider the top 10,000 words in the dataset\n",
        "\n",
        "tokenizer = Tokenizer(num_words=max_words) #\n",
        "\"\"\"\n",
        "num_words: the maximum number of words to keep, \n",
        "based on word frequency. Only the most common num_words words will be kept.\n",
        "\n",
        "The Tokenizer stores everything in the word_index during fit_on_texts. \n",
        "Then, when calling the texts_to_sequences method, only the top num_words are considered.\n",
        "\"\"\"\n",
        "test_texts3 = ['a a a', 'b b', 'c',\"d d d d\"]\n",
        "test_tokenizer = Tokenizer(num_words=2)\n",
        "test_tokenizer.fit_on_texts(test_texts)\n",
        "\n",
        "test_tokenizer.word_index\n",
        "\n",
        "test_sequence = test_tokenizer.texts_to_sequences(test_texts)\n",
        "test_sequence\n",
        "\n",
        "test_tokenizer3 = Tokenizer(num_words=3)\n",
        "test_tokenizer3.fit_on_texts(test_texts3)\n",
        "\n",
        "test_tokenizer3.word_index\n",
        "\n",
        "test_sequence3 = test_tokenizer3.texts_to_sequences(test_texts3)\n",
        "test_sequence3\n",
        "\n",
        "tokenizer.fit_on_texts(texts) # texts are the whole datasets(train+test)\n",
        "sequences = tokenizer.texts_to_sequences(texts) #Converts a text to a sequence of words (or tokens).\n",
        "type(sequences)\n",
        "\n",
        "len(sequences)\n",
        "\n",
        "for i in range(5):\n",
        "  print(\"line %s review --- it is a %d ------\" %(i,labels[i]))\n",
        "  print(len(texts[i]),texts[i])\n",
        "  print(len(sequences[i]),sequences[i])\n",
        "\n",
        "for i in range(5):\n",
        "  print(\"line %s review --- it is a %d ------\" %(i,labels[i]))\n",
        "  print(len(texts[i].split()),texts[i])\n",
        "  print(\"tokenized sequence --------\")\n",
        "  print(len(sequences[i]),sequences[i])\n",
        "\n",
        "word_index = tokenizer.word_index #\n",
        "print('Found %s unique tokens.' % len(word_index))\n",
        "\n",
        "type(word_index)\n",
        "word_index[\"this\"]\n",
        "\n",
        "word_index[\"i\"]\n",
        "word_index[\"the\"]\n",
        "\n",
        "\n",
        "\"\"\"  pad_sequences\n",
        "x_train = preprocessing.sequence.pad_sequences(x_train, maxlen=maxlen)\n",
        "#x_test = preprocessing.sequence.pad_sequences(x_test, maxlen=maxlen)\n",
        "\n",
        "\"\"\"\n",
        "type(sequences)\n",
        "\n",
        "len_sequences_10 = [len(sequences[i]) for i in range(10)]\n",
        "len_sequences_10\n",
        "\n",
        "maxlen\n",
        "\n",
        "data = pad_sequences(sequences, maxlen=maxlen)\n",
        "\n",
        "len_data_10 = [len(data[i]) for i in range(10)]\n",
        "len_data_10\n",
        "\n",
        "labels = np.asarray(labels)\n",
        "print('Shape of data tensor:', data.shape)\n",
        "print('Shape of label tensor:', labels.shape)\n",
        "\n",
        "# Split the data into a training set and a validation set\n",
        "# But first, shuffle the data, since we started from data\n",
        "# where sample are ordered (all negative first, then all positive).\n",
        "indices = np.arange(data.shape[0])\n",
        "np.random.shuffle(indices)\n",
        "data = data[indices]\n",
        "labels = labels[indices]\n",
        "\n",
        "x_train = data[:training_samples]\n",
        "y_train = labels[:training_samples]\n",
        "x_val = data[training_samples: training_samples + validation_samples]\n",
        "y_val = labels[training_samples: training_samples + validation_samples]\n",
        "\n",
        "## Pre-process the embeddings\n",
        "Let's parse the un-zipped file (it's a txt file) to build an index mapping words (as strings) to their vector representation (as number vectors)\n",
        "\n",
        "glove_dir = 'resources/data/glove'\n",
        "\n",
        "embeddings_index = {}\n",
        "f = open(os.path.join(glove_dir, 'glove.6B.100d.txt'))\n",
        "for line in f:\n",
        "    values = line.split()\n",
        "    word = values[0]\n",
        "    coefs = np.asarray(values[1:], dtype='float32')\n",
        "    embeddings_index[word] = coefs\n",
        "f.close()\n",
        "\n",
        "print('Found %s word vectors.' % len(embeddings_index))\n",
        "\n",
        "embeddings_index[\"love\"]\n",
        "\n",
        "len(embeddings_index[\"love\"])\n",
        "\n",
        "max_words #10000\n",
        "\n",
        "embedding_dim = 100\n",
        "\n",
        "# initiate the embedding_matrix with 0\n",
        "embedding_matrix = np.zeros((max_words, embedding_dim))\n",
        "embedding_matrix.shape #(10000, 100)\n",
        "\n",
        "#word_index.items() very long list from tokenizer\n",
        "\n",
        "\"\"\"\n",
        "some example:\n",
        "\n",
        "('sixteenth', 25417), \n",
        "('brethren', 25418), \n",
        "('pasty', 25419), \n",
        "('slinky', 25420), \n",
        "(\"office'\", 25421), \n",
        "('pd', 25422), \n",
        "\"\"\"\n",
        "max_words\n",
        "\n",
        "# get the embedding_matrix from pre-tainined embeddings\n",
        "for word, i in word_index.items(): #word_index is from the tokenizer\n",
        "    embedding_vector = embeddings_index.get(word) # get the embedding values( in this case is 100 dimension)\n",
        "    if i < max_words: # only use the most frequency word selected by max_words\n",
        "        if embedding_vector is not None:\n",
        "            # Words not found in embedding index will be all-zeros. from paddings\n",
        "            embedding_matrix[i] = embedding_vector\n",
        "maxlen            \n",
        "from keras.models import Sequential\n",
        "from keras.layers import Embedding, Flatten, Dense\n",
        "\n",
        "model = Sequential()\n",
        "model.add(Embedding(max_words, embedding_dim, input_length=maxlen))\n",
        "model.add(Flatten())\n",
        "model.add(Dense(32, activation='relu'))\n",
        "model.add(Dense(1, activation='sigmoid'))\n",
        "model.summary()\n",
        "\n",
        "model.layers[0].set_weights([embedding_matrix])\n",
        "model.layers[0].trainable = False\n",
        "\n",
        "\n",
        "model.compile(optimizer='rmsprop',\n",
        "              loss='binary_crossentropy',\n",
        "              metrics=['acc'])\n",
        "history_pre_train = model.fit(x_train, y_train,\n",
        "                    epochs=10,\n",
        "                    batch_size=32,\n",
        "                    validation_data=(x_val, y_val))\n",
        "model.save_weights('tc_pre_trained_glove_model.h5')\n",
        "\n",
        "def plot_one(history):\n",
        "  \n",
        "  acc = history.history['acc']\n",
        "  val_acc = history.history['val_acc']\n",
        "  loss = history.history['loss']\n",
        "  val_loss = history.history['val_loss']\n",
        "\n",
        "  epochs = range(1, len(acc) + 1)\n",
        "\n",
        "  plt.plot(epochs, acc, 'bo', label='Training acc')\n",
        "  plt.plot(epochs, val_acc, 'b', label='Validation acc')\n",
        "  plt.title('Training and validation accuracy')\n",
        "  plt.legend()\n",
        "\n",
        "  plt.figure()\n",
        "\n",
        "  plt.plot(epochs, loss, 'bo', label='Training loss')\n",
        "  plt.plot(epochs, val_loss, 'b', label='Validation loss')\n",
        "  plt.title('Training and validation loss')\n",
        "  plt.legend()\n",
        "\n",
        "  plt.show()\n",
        "  \n",
        "# plot\n",
        "plot_one()\n",
        "\n",
        "## train the same model without loading the pre-trained word embeddings and without freezing the embedding layer. \n",
        "\n",
        "model = Sequential()\n",
        "model.add(Embedding(max_words, embedding_dim, input_length=maxlen))\n",
        "model.add(Flatten())\n",
        "model.add(Dense(32, activation='relu'))\n",
        "model.add(Dense(1, activation='sigmoid'))\n",
        "model.summary()\n",
        "\n",
        "model.compile(optimizer='rmsprop',\n",
        "              loss='binary_crossentropy',\n",
        "              metrics=['acc'])\n",
        "history = model.fit(x_train, y_train,\n",
        "                    epochs=10,\n",
        "                    batch_size=32,\n",
        "                    validation_data=(x_val, y_val))\n",
        "\n",
        "plot_one(history_pre_train)\n",
        "\n",
        "plot_one(history)\n",
        "\n",
        "test_dir = os.path.join(imdb_dir, 'test')\n",
        "\n",
        "labels = []\n",
        "texts = []\n",
        "\n",
        "for label_type in ['neg', 'pos']:\n",
        "    dir_name = os.path.join(test_dir, label_type)\n",
        "    for fname in sorted(os.listdir(dir_name)):\n",
        "        if fname[-4:] == '.txt':\n",
        "            f = open(os.path.join(dir_name, fname))\n",
        "            texts.append(f.read())\n",
        "            f.close()\n",
        "            if label_type == 'neg':\n",
        "                labels.append(0)\n",
        "            else:\n",
        "                labels.append(1)\n",
        "\n",
        "sequences = tokenizer.texts_to_sequences(texts)\n",
        "x_test = pad_sequences(sequences, maxlen=maxlen)\n",
        "y_test = np.asarray(labels)\n",
        "\n",
        "\n",
        "model.evaluate(x_test, y_test)\n",
        "\n",
        "model.load_weights('pre_trained_glove_model.h5')\n",
        "model.evaluate(x_test, y_test)\n",
        "\n",
        "## pre trainined embedding is better\n",
        "max_features = 10000\n",
        "\n",
        "from keras.layers import LSTM\n",
        "\n",
        "model = Sequential()\n",
        "# Add an Embedding layer as before with 10000 vocab size(max features) \n",
        "#and 32 output dimensions\n",
        "# ...\n",
        "# Add a LSTM layer of 32 dimensions\n",
        "# ...\n",
        "# Exercise 3: Solution\n",
        "model.add(Embedding(max_features, 32))\n",
        "model.add(LSTM(32))\n",
        "model.add(Dense(1, activation='sigmoid'))\n",
        "\n",
        "model.summary()\n",
        "\n",
        "model.compile(optimizer='rmsprop',\n",
        "              loss='binary_crossentropy',\n",
        "              metrics=['acc'])\n",
        "history_lstm = model.fit(x_train, y_train,\n",
        "                    epochs=10,\n",
        "                    batch_size=128,\n",
        "                    validation_split=0.2)\n",
        "plot_one(history_lstm)\n",
        "\n",
        "## using the imdb data to to train LSTM\n",
        "\n",
        "from keras.datasets import imdb\n",
        "from keras.preprocessing import sequence\n",
        "\n",
        "max_features = 10000  # number of words to consider as features\n",
        "maxlen = 500  # cut texts after this number of words (among top max_features most common words)\n",
        "batch_size = 32\n",
        "\n",
        "print('Loading data...')\n",
        "(input_train, y_train), (input_test, y_test) = imdb.load_data(num_words=max_features)\n",
        "print(len(input_train), 'train sequences')\n",
        "print(len(input_test), 'test sequences')\n",
        "\n",
        "print('Pad sequences (samples x time)')\n",
        "input_train = sequence.pad_sequences(input_train, maxlen=maxlen)\n",
        "input_test = sequence.pad_sequences(input_test, maxlen=maxlen)\n",
        "print('input_train shape:', input_train.shape)\n",
        "print('input_test shape:', input_test.shape)\n",
        "\n",
        "model = Sequential()\n",
        "# Add an Embedding layer as before with 10000 vocab size(max features) \n",
        "#and 32 output dimensions\n",
        "# ...\n",
        "# Add a LSTM layer of 32 dimensions\n",
        "# ...\n",
        "# Exercise 3: Solution\n",
        "model.add(Embedding(max_features, 32))\n",
        "model.add(LSTM(32))\n",
        "model.add(Dense(1, activation='sigmoid'))\n",
        "\n",
        "model.summary()\n",
        "\n",
        "model.compile(optimizer='rmsprop',\n",
        "              loss='binary_crossentropy',\n",
        "              metrics=['acc'])\n",
        "history_lstm = model.fit(input_train, y_train,\n",
        "                    epochs=10,\n",
        "                    batch_size=128,\n",
        "                    validation_split=0.2)\n",
        "plot_one(history_lstm)\n"
      ],
      "execution_count": 0,
      "outputs": []
    }
  ]
}